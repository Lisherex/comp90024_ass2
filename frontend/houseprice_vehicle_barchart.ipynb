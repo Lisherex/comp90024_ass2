{
 "cells": [
  {
   "cell_type": "code",
   "execution_count": 13,
   "metadata": {},
   "outputs": [],
   "source": [
    "import requests\n",
    "import pandas as pd\n",
    "import plotly.graph_objs as go\n",
    "from plotly.offline import plot\n",
    "\n",
    "# Fetch the data from the API for house prices and vehicle data\n",
    "url_houseprice_vehicle = 'http://127.0.0.1:9090/houseprice/vehicle'\n",
    "response_houseprice_vehicle = requests.get(url_houseprice_vehicle)\n",
    "data_houseprice_vehicle = response_houseprice_vehicle.json()\n",
    "\n",
    "# Convert JSON data to a DataFrame\n",
    "df_houseprice_vehicle = pd.json_normalize(data_houseprice_vehicle)\n",
    "\n",
    "# Create an interactive bar chart\n",
    "def create_interactive_bar_chart(df):\n",
    "    lga_names = df['lga_name']\n",
    "    average_prices = df['average_price']\n",
    "    \n",
    "    vehicle_data = (\n",
    "        \"None: \" + df['none_vehicle_per_dwelling'].astype(str) + \"<br>\" +\n",
    "        \"One: \" + df['one_vehicle_per_dwelling'].astype(str) + \"<br>\" +\n",
    "        \"Two: \" + df['two_vehicle_per_dwelling'].astype(str) + \"<br>\" +\n",
    "        \"Three: \" + df['three_vehicle_per_dwelling'].astype(str) + \"<br>\" +\n",
    "        \"More than Four: \" + df['more_than_four_vehicle_per_dwelling'].astype(str)\n",
    "    )\n",
    "    \n",
    "    # Create the bar chart\n",
    "    bars = go.Bar(\n",
    "        x=lga_names,\n",
    "        y=average_prices,\n",
    "        text=[f\"${int(price):,}\" for price in average_prices],\n",
    "        hovertext=vehicle_data,\n",
    "        hoverinfo='text+name',\n",
    "        marker=dict(color='#66b3ff')\n",
    "    )\n",
    "    \n",
    "    layout = go.Layout(\n",
    "        title='Average House Price vs Vehicle Data per Dwelling in Various Location',\n",
    "        xaxis=dict(title='LGA Name'),\n",
    "        yaxis=dict(title='Average House Price ($)', tickformat=','),\n",
    "        hovermode='closest',\n",
    "        hoverlabel=dict(\n",
    "            bgcolor=\"white\"\n",
    "        )\n",
    "    )\n",
    "    \n",
    "    fig = go.Figure(data=[bars], layout=layout)\n",
    "    plot(fig, filename='interactive_bar_chart.html')\n",
    "\n",
    "# Generate the interactive bar chart for the DataFrame\n",
    "if not df_houseprice_vehicle.empty:\n",
    "    create_interactive_bar_chart(df_houseprice_vehicle)\n"
   ]
  },
  {
   "cell_type": "code",
   "execution_count": null,
   "metadata": {},
   "outputs": [],
   "source": []
  }
 ],
 "metadata": {
  "kernelspec": {
   "display_name": "Python 3 (ipykernel)",
   "language": "python",
   "name": "python3"
  },
  "language_info": {
   "codemirror_mode": {
    "name": "ipython",
    "version": 3
   },
   "file_extension": ".py",
   "mimetype": "text/x-python",
   "name": "python",
   "nbconvert_exporter": "python",
   "pygments_lexer": "ipython3",
   "version": "3.12.3"
  }
 },
 "nbformat": 4,
 "nbformat_minor": 4
}
