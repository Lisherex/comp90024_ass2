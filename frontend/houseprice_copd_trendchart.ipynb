{
 "cells": [
  {
   "cell_type": "code",
   "execution_count": 15,
   "metadata": {},
   "outputs": [
    {
     "data": {
      "text/html": [
       "        <script type=\"text/javascript\">\n",
       "        window.PlotlyConfig = {MathJaxConfig: 'local'};\n",
       "        if (window.MathJax && window.MathJax.Hub && window.MathJax.Hub.Config) {window.MathJax.Hub.Config({SVG: {font: \"STIX-Web\"}});}\n",
       "        if (typeof require !== 'undefined') {\n",
       "        require.undef(\"plotly\");\n",
       "        requirejs.config({\n",
       "            paths: {\n",
       "                'plotly': ['https://cdn.plot.ly/plotly-2.32.0.min']\n",
       "            }\n",
       "        });\n",
       "        require(['plotly'], function(Plotly) {\n",
       "            window._Plotly = Plotly;\n",
       "        });\n",
       "        }\n",
       "        </script>\n",
       "        "
      ]
     },
     "metadata": {},
     "output_type": "display_data"
    },
    {
     "data": {
      "application/vnd.plotly.v1+json": {
       "config": {
        "linkText": "Export to plot.ly",
        "plotlyServerURL": "https://plot.ly",
        "showLink": false
       },
       "data": [
        {
         "hoverinfo": "text",
         "hovertext": [
          "House Price: $437,640.873015873<br>Total COPD Admissions: 275.22",
          "House Price: $545,321.4285714285<br>Total COPD Admissions: 381.73",
          "House Price: $575,107.9424778761<br>Total COPD Admissions: 414.27",
          "House Price: $670,000.0<br>Total COPD Admissions: 308.78",
          "House Price: $670,333.1884368309<br>Total COPD Admissions: 443.00",
          "House Price: $758,445.9434652478<br>Total COPD Admissions: 227.62",
          "House Price: $849,979.4670846395<br>Total COPD Admissions: 449.67",
          "House Price: $861,608.6939313984<br>Total COPD Admissions: 201.61",
          "House Price: $887,176.0711095843<br>Total COPD Admissions: 195.00",
          "House Price: $1,080,334.9878934624<br>Total COPD Admissions: 207.73",
          "House Price: $1,165,231.724870764<br>Total COPD Admissions: 113.60",
          "House Price: $1,346,494.1986365046<br>Total COPD Admissions: 164.00",
          "House Price: $1,400,925.0117967331<br>Total COPD Admissions: 370.00",
          "House Price: $1,447,335.6231825524<br>Total COPD Admissions: 220.00"
         ],
         "mode": "lines+markers",
         "name": "Total COPD Admissions",
         "type": "scatter",
         "x": [
          437640.873015873,
          545321.4285714285,
          575107.9424778761,
          670000,
          670333.1884368309,
          758445.9434652478,
          849979.4670846395,
          861608.6939313984,
          887176.0711095843,
          1080334.9878934624,
          1165231.724870764,
          1346494.1986365046,
          1400925.0117967331,
          1447335.6231825524
         ],
         "y": [
          275.224250888786,
          381.726566992524,
          414.2726889,
          308.776311004232,
          442.9962366,
          227.6163661346879,
          449.66828862587676,
          201.607445968496,
          195.001328555382,
          207.7273111,
          113.59771143947637,
          164,
          370,
          220.00117300994748
         ]
        },
        {
         "hoverinfo": "text",
         "hovertext": [
          "House Price: $437,640.873015873<br>Male COPD Admissions: 133.17",
          "House Price: $545,321.4285714285<br>Male COPD Admissions: 196.70",
          "House Price: $575,107.9424778761<br>Male COPD Admissions: 192.90",
          "House Price: $670,000.0<br>Male COPD Admissions: 163.83",
          "House Price: $670,333.1884368309<br>Male COPD Admissions: 232.00",
          "House Price: $758,445.9434652478<br>Male COPD Admissions: 119.10",
          "House Price: $849,979.4670846395<br>Male COPD Admissions: 213.44",
          "House Price: $861,608.6939313984<br>Male COPD Admissions: 79.49",
          "House Price: $887,176.0711095843<br>Male COPD Admissions: 119.00",
          "House Price: $1,080,334.9878934624<br>Male COPD Admissions: 106.10",
          "House Price: $1,165,231.724870764<br>Male COPD Admissions: 65.10",
          "House Price: $1,346,494.1986365046<br>Male COPD Admissions: 82.00",
          "House Price: $1,400,925.0117967331<br>Male COPD Admissions: 214.00",
          "House Price: $1,447,335.6231825524<br>Male COPD Admissions: 123.34"
         ],
         "mode": "lines+markers",
         "name": "Male COPD Admissions",
         "type": "scatter",
         "x": [
          437640.873015873,
          545321.4285714285,
          575107.9424778761,
          670000,
          670333.1884368309,
          758445.9434652478,
          849979.4670846395,
          861608.6939313984,
          887176.0711095843,
          1080334.9878934624,
          1165231.724870764,
          1346494.1986365046,
          1400925.0117967331,
          1447335.6231825524
         ],
         "y": [
          133.172460765634,
          196.699252443933,
          192.9048367,
          163.832424913024,
          231.9979362,
          119.10059894980705,
          213.4385848689395,
          79.4906294360928,
          119.000817572543,
          106.0951633,
          65.09539497568848,
          82,
          214,
          123.34168660540635
         ]
        },
        {
         "hoverinfo": "text",
         "hovertext": [
          "House Price: $437,640.873015873<br>Female COPD Admissions: 142.05",
          "House Price: $545,321.4285714285<br>Female COPD Admissions: 185.03",
          "House Price: $575,107.9424778761<br>Female COPD Admissions: 221.37",
          "House Price: $670,000.0<br>Female COPD Admissions: 144.94",
          "House Price: $670,333.1884368309<br>Female COPD Admissions: 211.00",
          "House Price: $758,445.9434652478<br>Female COPD Admissions: 108.52",
          "House Price: $849,979.4670846395<br>Female COPD Admissions: 236.23",
          "House Price: $861,608.6939313984<br>Female COPD Admissions: 122.12",
          "House Price: $887,176.0711095843<br>Female COPD Admissions: 76.00",
          "House Price: $1,080,334.9878934624<br>Female COPD Admissions: 101.63",
          "House Price: $1,165,231.724870764<br>Female COPD Admissions: 48.50",
          "House Price: $1,346,494.1986365046<br>Female COPD Admissions: 82.00",
          "House Price: $1,400,925.0117967331<br>Female COPD Admissions: 156.00",
          "House Price: $1,447,335.6231825524<br>Female COPD Admissions: 96.66"
         ],
         "mode": "lines+markers",
         "name": "Female COPD Admissions",
         "type": "scatter",
         "x": [
          437640.873015873,
          545321.4285714285,
          575107.9424778761,
          670000,
          670333.1884368309,
          758445.9434652478,
          849979.4670846395,
          861608.6939313984,
          887176.0711095843,
          1080334.9878934624,
          1165231.724870764,
          1346494.1986365046,
          1400925.0117967331,
          1447335.6231825524
         ],
         "y": [
          142.051790123152,
          185.027314548591,
          221.3678522,
          144.943886091208,
          210.9983004,
          108.51576718488086,
          236.22970375693717,
          122.116816532403,
          76.0005109828393,
          101.6321478,
          48.502316463787906,
          82,
          156,
          96.65948640454125
         ]
        }
       ],
       "layout": {
        "autosize": true,
        "hovermode": "closest",
        "template": {
         "data": {
          "bar": [
           {
            "error_x": {
             "color": "#2a3f5f"
            },
            "error_y": {
             "color": "#2a3f5f"
            },
            "marker": {
             "line": {
              "color": "#E5ECF6",
              "width": 0.5
             },
             "pattern": {
              "fillmode": "overlay",
              "size": 10,
              "solidity": 0.2
             }
            },
            "type": "bar"
           }
          ],
          "barpolar": [
           {
            "marker": {
             "line": {
              "color": "#E5ECF6",
              "width": 0.5
             },
             "pattern": {
              "fillmode": "overlay",
              "size": 10,
              "solidity": 0.2
             }
            },
            "type": "barpolar"
           }
          ],
          "carpet": [
           {
            "aaxis": {
             "endlinecolor": "#2a3f5f",
             "gridcolor": "white",
             "linecolor": "white",
             "minorgridcolor": "white",
             "startlinecolor": "#2a3f5f"
            },
            "baxis": {
             "endlinecolor": "#2a3f5f",
             "gridcolor": "white",
             "linecolor": "white",
             "minorgridcolor": "white",
             "startlinecolor": "#2a3f5f"
            },
            "type": "carpet"
           }
          ],
          "choropleth": [
           {
            "colorbar": {
             "outlinewidth": 0,
             "ticks": ""
            },
            "type": "choropleth"
           }
          ],
          "contour": [
           {
            "colorbar": {
             "outlinewidth": 0,
             "ticks": ""
            },
            "colorscale": [
             [
              0,
              "#0d0887"
             ],
             [
              0.1111111111111111,
              "#46039f"
             ],
             [
              0.2222222222222222,
              "#7201a8"
             ],
             [
              0.3333333333333333,
              "#9c179e"
             ],
             [
              0.4444444444444444,
              "#bd3786"
             ],
             [
              0.5555555555555556,
              "#d8576b"
             ],
             [
              0.6666666666666666,
              "#ed7953"
             ],
             [
              0.7777777777777778,
              "#fb9f3a"
             ],
             [
              0.8888888888888888,
              "#fdca26"
             ],
             [
              1,
              "#f0f921"
             ]
            ],
            "type": "contour"
           }
          ],
          "contourcarpet": [
           {
            "colorbar": {
             "outlinewidth": 0,
             "ticks": ""
            },
            "type": "contourcarpet"
           }
          ],
          "heatmap": [
           {
            "colorbar": {
             "outlinewidth": 0,
             "ticks": ""
            },
            "colorscale": [
             [
              0,
              "#0d0887"
             ],
             [
              0.1111111111111111,
              "#46039f"
             ],
             [
              0.2222222222222222,
              "#7201a8"
             ],
             [
              0.3333333333333333,
              "#9c179e"
             ],
             [
              0.4444444444444444,
              "#bd3786"
             ],
             [
              0.5555555555555556,
              "#d8576b"
             ],
             [
              0.6666666666666666,
              "#ed7953"
             ],
             [
              0.7777777777777778,
              "#fb9f3a"
             ],
             [
              0.8888888888888888,
              "#fdca26"
             ],
             [
              1,
              "#f0f921"
             ]
            ],
            "type": "heatmap"
           }
          ],
          "heatmapgl": [
           {
            "colorbar": {
             "outlinewidth": 0,
             "ticks": ""
            },
            "colorscale": [
             [
              0,
              "#0d0887"
             ],
             [
              0.1111111111111111,
              "#46039f"
             ],
             [
              0.2222222222222222,
              "#7201a8"
             ],
             [
              0.3333333333333333,
              "#9c179e"
             ],
             [
              0.4444444444444444,
              "#bd3786"
             ],
             [
              0.5555555555555556,
              "#d8576b"
             ],
             [
              0.6666666666666666,
              "#ed7953"
             ],
             [
              0.7777777777777778,
              "#fb9f3a"
             ],
             [
              0.8888888888888888,
              "#fdca26"
             ],
             [
              1,
              "#f0f921"
             ]
            ],
            "type": "heatmapgl"
           }
          ],
          "histogram": [
           {
            "marker": {
             "pattern": {
              "fillmode": "overlay",
              "size": 10,
              "solidity": 0.2
             }
            },
            "type": "histogram"
           }
          ],
          "histogram2d": [
           {
            "colorbar": {
             "outlinewidth": 0,
             "ticks": ""
            },
            "colorscale": [
             [
              0,
              "#0d0887"
             ],
             [
              0.1111111111111111,
              "#46039f"
             ],
             [
              0.2222222222222222,
              "#7201a8"
             ],
             [
              0.3333333333333333,
              "#9c179e"
             ],
             [
              0.4444444444444444,
              "#bd3786"
             ],
             [
              0.5555555555555556,
              "#d8576b"
             ],
             [
              0.6666666666666666,
              "#ed7953"
             ],
             [
              0.7777777777777778,
              "#fb9f3a"
             ],
             [
              0.8888888888888888,
              "#fdca26"
             ],
             [
              1,
              "#f0f921"
             ]
            ],
            "type": "histogram2d"
           }
          ],
          "histogram2dcontour": [
           {
            "colorbar": {
             "outlinewidth": 0,
             "ticks": ""
            },
            "colorscale": [
             [
              0,
              "#0d0887"
             ],
             [
              0.1111111111111111,
              "#46039f"
             ],
             [
              0.2222222222222222,
              "#7201a8"
             ],
             [
              0.3333333333333333,
              "#9c179e"
             ],
             [
              0.4444444444444444,
              "#bd3786"
             ],
             [
              0.5555555555555556,
              "#d8576b"
             ],
             [
              0.6666666666666666,
              "#ed7953"
             ],
             [
              0.7777777777777778,
              "#fb9f3a"
             ],
             [
              0.8888888888888888,
              "#fdca26"
             ],
             [
              1,
              "#f0f921"
             ]
            ],
            "type": "histogram2dcontour"
           }
          ],
          "mesh3d": [
           {
            "colorbar": {
             "outlinewidth": 0,
             "ticks": ""
            },
            "type": "mesh3d"
           }
          ],
          "parcoords": [
           {
            "line": {
             "colorbar": {
              "outlinewidth": 0,
              "ticks": ""
             }
            },
            "type": "parcoords"
           }
          ],
          "pie": [
           {
            "automargin": true,
            "type": "pie"
           }
          ],
          "scatter": [
           {
            "fillpattern": {
             "fillmode": "overlay",
             "size": 10,
             "solidity": 0.2
            },
            "type": "scatter"
           }
          ],
          "scatter3d": [
           {
            "line": {
             "colorbar": {
              "outlinewidth": 0,
              "ticks": ""
             }
            },
            "marker": {
             "colorbar": {
              "outlinewidth": 0,
              "ticks": ""
             }
            },
            "type": "scatter3d"
           }
          ],
          "scattercarpet": [
           {
            "marker": {
             "colorbar": {
              "outlinewidth": 0,
              "ticks": ""
             }
            },
            "type": "scattercarpet"
           }
          ],
          "scattergeo": [
           {
            "marker": {
             "colorbar": {
              "outlinewidth": 0,
              "ticks": ""
             }
            },
            "type": "scattergeo"
           }
          ],
          "scattergl": [
           {
            "marker": {
             "colorbar": {
              "outlinewidth": 0,
              "ticks": ""
             }
            },
            "type": "scattergl"
           }
          ],
          "scattermapbox": [
           {
            "marker": {
             "colorbar": {
              "outlinewidth": 0,
              "ticks": ""
             }
            },
            "type": "scattermapbox"
           }
          ],
          "scatterpolar": [
           {
            "marker": {
             "colorbar": {
              "outlinewidth": 0,
              "ticks": ""
             }
            },
            "type": "scatterpolar"
           }
          ],
          "scatterpolargl": [
           {
            "marker": {
             "colorbar": {
              "outlinewidth": 0,
              "ticks": ""
             }
            },
            "type": "scatterpolargl"
           }
          ],
          "scatterternary": [
           {
            "marker": {
             "colorbar": {
              "outlinewidth": 0,
              "ticks": ""
             }
            },
            "type": "scatterternary"
           }
          ],
          "surface": [
           {
            "colorbar": {
             "outlinewidth": 0,
             "ticks": ""
            },
            "colorscale": [
             [
              0,
              "#0d0887"
             ],
             [
              0.1111111111111111,
              "#46039f"
             ],
             [
              0.2222222222222222,
              "#7201a8"
             ],
             [
              0.3333333333333333,
              "#9c179e"
             ],
             [
              0.4444444444444444,
              "#bd3786"
             ],
             [
              0.5555555555555556,
              "#d8576b"
             ],
             [
              0.6666666666666666,
              "#ed7953"
             ],
             [
              0.7777777777777778,
              "#fb9f3a"
             ],
             [
              0.8888888888888888,
              "#fdca26"
             ],
             [
              1,
              "#f0f921"
             ]
            ],
            "type": "surface"
           }
          ],
          "table": [
           {
            "cells": {
             "fill": {
              "color": "#EBF0F8"
             },
             "line": {
              "color": "white"
             }
            },
            "header": {
             "fill": {
              "color": "#C8D4E3"
             },
             "line": {
              "color": "white"
             }
            },
            "type": "table"
           }
          ]
         },
         "layout": {
          "annotationdefaults": {
           "arrowcolor": "#2a3f5f",
           "arrowhead": 0,
           "arrowwidth": 1
          },
          "autotypenumbers": "strict",
          "coloraxis": {
           "colorbar": {
            "outlinewidth": 0,
            "ticks": ""
           }
          },
          "colorscale": {
           "diverging": [
            [
             0,
             "#8e0152"
            ],
            [
             0.1,
             "#c51b7d"
            ],
            [
             0.2,
             "#de77ae"
            ],
            [
             0.3,
             "#f1b6da"
            ],
            [
             0.4,
             "#fde0ef"
            ],
            [
             0.5,
             "#f7f7f7"
            ],
            [
             0.6,
             "#e6f5d0"
            ],
            [
             0.7,
             "#b8e186"
            ],
            [
             0.8,
             "#7fbc41"
            ],
            [
             0.9,
             "#4d9221"
            ],
            [
             1,
             "#276419"
            ]
           ],
           "sequential": [
            [
             0,
             "#0d0887"
            ],
            [
             0.1111111111111111,
             "#46039f"
            ],
            [
             0.2222222222222222,
             "#7201a8"
            ],
            [
             0.3333333333333333,
             "#9c179e"
            ],
            [
             0.4444444444444444,
             "#bd3786"
            ],
            [
             0.5555555555555556,
             "#d8576b"
            ],
            [
             0.6666666666666666,
             "#ed7953"
            ],
            [
             0.7777777777777778,
             "#fb9f3a"
            ],
            [
             0.8888888888888888,
             "#fdca26"
            ],
            [
             1,
             "#f0f921"
            ]
           ],
           "sequentialminus": [
            [
             0,
             "#0d0887"
            ],
            [
             0.1111111111111111,
             "#46039f"
            ],
            [
             0.2222222222222222,
             "#7201a8"
            ],
            [
             0.3333333333333333,
             "#9c179e"
            ],
            [
             0.4444444444444444,
             "#bd3786"
            ],
            [
             0.5555555555555556,
             "#d8576b"
            ],
            [
             0.6666666666666666,
             "#ed7953"
            ],
            [
             0.7777777777777778,
             "#fb9f3a"
            ],
            [
             0.8888888888888888,
             "#fdca26"
            ],
            [
             1,
             "#f0f921"
            ]
           ]
          },
          "colorway": [
           "#636efa",
           "#EF553B",
           "#00cc96",
           "#ab63fa",
           "#FFA15A",
           "#19d3f3",
           "#FF6692",
           "#B6E880",
           "#FF97FF",
           "#FECB52"
          ],
          "font": {
           "color": "#2a3f5f"
          },
          "geo": {
           "bgcolor": "white",
           "lakecolor": "white",
           "landcolor": "#E5ECF6",
           "showlakes": true,
           "showland": true,
           "subunitcolor": "white"
          },
          "hoverlabel": {
           "align": "left"
          },
          "hovermode": "closest",
          "mapbox": {
           "style": "light"
          },
          "paper_bgcolor": "white",
          "plot_bgcolor": "#E5ECF6",
          "polar": {
           "angularaxis": {
            "gridcolor": "white",
            "linecolor": "white",
            "ticks": ""
           },
           "bgcolor": "#E5ECF6",
           "radialaxis": {
            "gridcolor": "white",
            "linecolor": "white",
            "ticks": ""
           }
          },
          "scene": {
           "xaxis": {
            "backgroundcolor": "#E5ECF6",
            "gridcolor": "white",
            "gridwidth": 2,
            "linecolor": "white",
            "showbackground": true,
            "ticks": "",
            "zerolinecolor": "white"
           },
           "yaxis": {
            "backgroundcolor": "#E5ECF6",
            "gridcolor": "white",
            "gridwidth": 2,
            "linecolor": "white",
            "showbackground": true,
            "ticks": "",
            "zerolinecolor": "white"
           },
           "zaxis": {
            "backgroundcolor": "#E5ECF6",
            "gridcolor": "white",
            "gridwidth": 2,
            "linecolor": "white",
            "showbackground": true,
            "ticks": "",
            "zerolinecolor": "white"
           }
          },
          "shapedefaults": {
           "line": {
            "color": "#2a3f5f"
           }
          },
          "ternary": {
           "aaxis": {
            "gridcolor": "white",
            "linecolor": "white",
            "ticks": ""
           },
           "baxis": {
            "gridcolor": "white",
            "linecolor": "white",
            "ticks": ""
           },
           "bgcolor": "#E5ECF6",
           "caxis": {
            "gridcolor": "white",
            "linecolor": "white",
            "ticks": ""
           }
          },
          "title": {
           "x": 0.05
          },
          "xaxis": {
           "automargin": true,
           "gridcolor": "white",
           "linecolor": "white",
           "ticks": "",
           "title": {
            "standoff": 15
           },
           "zerolinecolor": "white",
           "zerolinewidth": 2
          },
          "yaxis": {
           "automargin": true,
           "gridcolor": "white",
           "linecolor": "white",
           "ticks": "",
           "title": {
            "standoff": 15
           },
           "zerolinecolor": "white",
           "zerolinewidth": 2
          }
         }
        },
        "title": {
         "text": "Average House Price vs COPD Admissions"
        },
        "xaxis": {
         "autorange": true,
         "range": [
          375722.99174180895,
          1509253.5044566165
         ],
         "tickformat": ",",
         "title": {
          "text": "Average House Price ($)"
         },
         "type": "linear"
        },
        "yaxis": {
         "autorange": true,
         "range": [
          15.396386722256302,
          482.77421836740837
         ],
         "tickformat": ",",
         "title": {
          "text": "COPD Admissions"
         },
         "type": "linear"
        }
       }
      },
      "text/html": [
       "<div>                            <div id=\"5e0458d7-358e-4a8b-9967-775a5939aa30\" class=\"plotly-graph-div\" style=\"height:525px; width:100%;\"></div>            <script type=\"text/javascript\">                require([\"plotly\"], function(Plotly) {                    window.PLOTLYENV=window.PLOTLYENV || {};                                    if (document.getElementById(\"5e0458d7-358e-4a8b-9967-775a5939aa30\")) {                    Plotly.newPlot(                        \"5e0458d7-358e-4a8b-9967-775a5939aa30\",                        [{\"hoverinfo\":\"text\",\"hovertext\":[\"House Price: $437,640.873015873\\u003cbr\\u003eTotal COPD Admissions: 275.22\",\"House Price: $545,321.4285714285\\u003cbr\\u003eTotal COPD Admissions: 381.73\",\"House Price: $575,107.9424778761\\u003cbr\\u003eTotal COPD Admissions: 414.27\",\"House Price: $670,000.0\\u003cbr\\u003eTotal COPD Admissions: 308.78\",\"House Price: $670,333.1884368309\\u003cbr\\u003eTotal COPD Admissions: 443.00\",\"House Price: $758,445.9434652478\\u003cbr\\u003eTotal COPD Admissions: 227.62\",\"House Price: $849,979.4670846395\\u003cbr\\u003eTotal COPD Admissions: 449.67\",\"House Price: $861,608.6939313984\\u003cbr\\u003eTotal COPD Admissions: 201.61\",\"House Price: $887,176.0711095843\\u003cbr\\u003eTotal COPD Admissions: 195.00\",\"House Price: $1,080,334.9878934624\\u003cbr\\u003eTotal COPD Admissions: 207.73\",\"House Price: $1,165,231.724870764\\u003cbr\\u003eTotal COPD Admissions: 113.60\",\"House Price: $1,346,494.1986365046\\u003cbr\\u003eTotal COPD Admissions: 164.00\",\"House Price: $1,400,925.0117967331\\u003cbr\\u003eTotal COPD Admissions: 370.00\",\"House Price: $1,447,335.6231825524\\u003cbr\\u003eTotal COPD Admissions: 220.00\"],\"mode\":\"lines+markers\",\"name\":\"Total COPD Admissions\",\"x\":[437640.873015873,545321.4285714285,575107.9424778761,670000.0,670333.1884368309,758445.9434652478,849979.4670846395,861608.6939313984,887176.0711095843,1080334.9878934624,1165231.724870764,1346494.1986365046,1400925.0117967331,1447335.6231825524],\"y\":[275.224250888786,381.726566992524,414.2726889,308.776311004232,442.9962366,227.6163661346879,449.66828862587676,201.607445968496,195.001328555382,207.7273111,113.59771143947637,164.0,370.0,220.00117300994748],\"type\":\"scatter\"},{\"hoverinfo\":\"text\",\"hovertext\":[\"House Price: $437,640.873015873\\u003cbr\\u003eMale COPD Admissions: 133.17\",\"House Price: $545,321.4285714285\\u003cbr\\u003eMale COPD Admissions: 196.70\",\"House Price: $575,107.9424778761\\u003cbr\\u003eMale COPD Admissions: 192.90\",\"House Price: $670,000.0\\u003cbr\\u003eMale COPD Admissions: 163.83\",\"House Price: $670,333.1884368309\\u003cbr\\u003eMale COPD Admissions: 232.00\",\"House Price: $758,445.9434652478\\u003cbr\\u003eMale COPD Admissions: 119.10\",\"House Price: $849,979.4670846395\\u003cbr\\u003eMale COPD Admissions: 213.44\",\"House Price: $861,608.6939313984\\u003cbr\\u003eMale COPD Admissions: 79.49\",\"House Price: $887,176.0711095843\\u003cbr\\u003eMale COPD Admissions: 119.00\",\"House Price: $1,080,334.9878934624\\u003cbr\\u003eMale COPD Admissions: 106.10\",\"House Price: $1,165,231.724870764\\u003cbr\\u003eMale COPD Admissions: 65.10\",\"House Price: $1,346,494.1986365046\\u003cbr\\u003eMale COPD Admissions: 82.00\",\"House Price: $1,400,925.0117967331\\u003cbr\\u003eMale COPD Admissions: 214.00\",\"House Price: $1,447,335.6231825524\\u003cbr\\u003eMale COPD Admissions: 123.34\"],\"mode\":\"lines+markers\",\"name\":\"Male COPD Admissions\",\"x\":[437640.873015873,545321.4285714285,575107.9424778761,670000.0,670333.1884368309,758445.9434652478,849979.4670846395,861608.6939313984,887176.0711095843,1080334.9878934624,1165231.724870764,1346494.1986365046,1400925.0117967331,1447335.6231825524],\"y\":[133.172460765634,196.699252443933,192.9048367,163.832424913024,231.9979362,119.10059894980705,213.4385848689395,79.4906294360928,119.000817572543,106.0951633,65.09539497568848,82.0,214.0,123.34168660540635],\"type\":\"scatter\"},{\"hoverinfo\":\"text\",\"hovertext\":[\"House Price: $437,640.873015873\\u003cbr\\u003eFemale COPD Admissions: 142.05\",\"House Price: $545,321.4285714285\\u003cbr\\u003eFemale COPD Admissions: 185.03\",\"House Price: $575,107.9424778761\\u003cbr\\u003eFemale COPD Admissions: 221.37\",\"House Price: $670,000.0\\u003cbr\\u003eFemale COPD Admissions: 144.94\",\"House Price: $670,333.1884368309\\u003cbr\\u003eFemale COPD Admissions: 211.00\",\"House Price: $758,445.9434652478\\u003cbr\\u003eFemale COPD Admissions: 108.52\",\"House Price: $849,979.4670846395\\u003cbr\\u003eFemale COPD Admissions: 236.23\",\"House Price: $861,608.6939313984\\u003cbr\\u003eFemale COPD Admissions: 122.12\",\"House Price: $887,176.0711095843\\u003cbr\\u003eFemale COPD Admissions: 76.00\",\"House Price: $1,080,334.9878934624\\u003cbr\\u003eFemale COPD Admissions: 101.63\",\"House Price: $1,165,231.724870764\\u003cbr\\u003eFemale COPD Admissions: 48.50\",\"House Price: $1,346,494.1986365046\\u003cbr\\u003eFemale COPD Admissions: 82.00\",\"House Price: $1,400,925.0117967331\\u003cbr\\u003eFemale COPD Admissions: 156.00\",\"House Price: $1,447,335.6231825524\\u003cbr\\u003eFemale COPD Admissions: 96.66\"],\"mode\":\"lines+markers\",\"name\":\"Female COPD Admissions\",\"x\":[437640.873015873,545321.4285714285,575107.9424778761,670000.0,670333.1884368309,758445.9434652478,849979.4670846395,861608.6939313984,887176.0711095843,1080334.9878934624,1165231.724870764,1346494.1986365046,1400925.0117967331,1447335.6231825524],\"y\":[142.051790123152,185.027314548591,221.3678522,144.943886091208,210.9983004,108.51576718488086,236.22970375693717,122.116816532403,76.0005109828393,101.6321478,48.502316463787906,82.0,156.0,96.65948640454125],\"type\":\"scatter\"}],                        {\"hovermode\":\"closest\",\"template\":{\"data\":{\"barpolar\":[{\"marker\":{\"line\":{\"color\":\"#E5ECF6\",\"width\":0.5},\"pattern\":{\"fillmode\":\"overlay\",\"size\":10,\"solidity\":0.2}},\"type\":\"barpolar\"}],\"bar\":[{\"error_x\":{\"color\":\"#2a3f5f\"},\"error_y\":{\"color\":\"#2a3f5f\"},\"marker\":{\"line\":{\"color\":\"#E5ECF6\",\"width\":0.5},\"pattern\":{\"fillmode\":\"overlay\",\"size\":10,\"solidity\":0.2}},\"type\":\"bar\"}],\"carpet\":[{\"aaxis\":{\"endlinecolor\":\"#2a3f5f\",\"gridcolor\":\"white\",\"linecolor\":\"white\",\"minorgridcolor\":\"white\",\"startlinecolor\":\"#2a3f5f\"},\"baxis\":{\"endlinecolor\":\"#2a3f5f\",\"gridcolor\":\"white\",\"linecolor\":\"white\",\"minorgridcolor\":\"white\",\"startlinecolor\":\"#2a3f5f\"},\"type\":\"carpet\"}],\"choropleth\":[{\"colorbar\":{\"outlinewidth\":0,\"ticks\":\"\"},\"type\":\"choropleth\"}],\"contourcarpet\":[{\"colorbar\":{\"outlinewidth\":0,\"ticks\":\"\"},\"type\":\"contourcarpet\"}],\"contour\":[{\"colorbar\":{\"outlinewidth\":0,\"ticks\":\"\"},\"colorscale\":[[0.0,\"#0d0887\"],[0.1111111111111111,\"#46039f\"],[0.2222222222222222,\"#7201a8\"],[0.3333333333333333,\"#9c179e\"],[0.4444444444444444,\"#bd3786\"],[0.5555555555555556,\"#d8576b\"],[0.6666666666666666,\"#ed7953\"],[0.7777777777777778,\"#fb9f3a\"],[0.8888888888888888,\"#fdca26\"],[1.0,\"#f0f921\"]],\"type\":\"contour\"}],\"heatmapgl\":[{\"colorbar\":{\"outlinewidth\":0,\"ticks\":\"\"},\"colorscale\":[[0.0,\"#0d0887\"],[0.1111111111111111,\"#46039f\"],[0.2222222222222222,\"#7201a8\"],[0.3333333333333333,\"#9c179e\"],[0.4444444444444444,\"#bd3786\"],[0.5555555555555556,\"#d8576b\"],[0.6666666666666666,\"#ed7953\"],[0.7777777777777778,\"#fb9f3a\"],[0.8888888888888888,\"#fdca26\"],[1.0,\"#f0f921\"]],\"type\":\"heatmapgl\"}],\"heatmap\":[{\"colorbar\":{\"outlinewidth\":0,\"ticks\":\"\"},\"colorscale\":[[0.0,\"#0d0887\"],[0.1111111111111111,\"#46039f\"],[0.2222222222222222,\"#7201a8\"],[0.3333333333333333,\"#9c179e\"],[0.4444444444444444,\"#bd3786\"],[0.5555555555555556,\"#d8576b\"],[0.6666666666666666,\"#ed7953\"],[0.7777777777777778,\"#fb9f3a\"],[0.8888888888888888,\"#fdca26\"],[1.0,\"#f0f921\"]],\"type\":\"heatmap\"}],\"histogram2dcontour\":[{\"colorbar\":{\"outlinewidth\":0,\"ticks\":\"\"},\"colorscale\":[[0.0,\"#0d0887\"],[0.1111111111111111,\"#46039f\"],[0.2222222222222222,\"#7201a8\"],[0.3333333333333333,\"#9c179e\"],[0.4444444444444444,\"#bd3786\"],[0.5555555555555556,\"#d8576b\"],[0.6666666666666666,\"#ed7953\"],[0.7777777777777778,\"#fb9f3a\"],[0.8888888888888888,\"#fdca26\"],[1.0,\"#f0f921\"]],\"type\":\"histogram2dcontour\"}],\"histogram2d\":[{\"colorbar\":{\"outlinewidth\":0,\"ticks\":\"\"},\"colorscale\":[[0.0,\"#0d0887\"],[0.1111111111111111,\"#46039f\"],[0.2222222222222222,\"#7201a8\"],[0.3333333333333333,\"#9c179e\"],[0.4444444444444444,\"#bd3786\"],[0.5555555555555556,\"#d8576b\"],[0.6666666666666666,\"#ed7953\"],[0.7777777777777778,\"#fb9f3a\"],[0.8888888888888888,\"#fdca26\"],[1.0,\"#f0f921\"]],\"type\":\"histogram2d\"}],\"histogram\":[{\"marker\":{\"pattern\":{\"fillmode\":\"overlay\",\"size\":10,\"solidity\":0.2}},\"type\":\"histogram\"}],\"mesh3d\":[{\"colorbar\":{\"outlinewidth\":0,\"ticks\":\"\"},\"type\":\"mesh3d\"}],\"parcoords\":[{\"line\":{\"colorbar\":{\"outlinewidth\":0,\"ticks\":\"\"}},\"type\":\"parcoords\"}],\"pie\":[{\"automargin\":true,\"type\":\"pie\"}],\"scatter3d\":[{\"line\":{\"colorbar\":{\"outlinewidth\":0,\"ticks\":\"\"}},\"marker\":{\"colorbar\":{\"outlinewidth\":0,\"ticks\":\"\"}},\"type\":\"scatter3d\"}],\"scattercarpet\":[{\"marker\":{\"colorbar\":{\"outlinewidth\":0,\"ticks\":\"\"}},\"type\":\"scattercarpet\"}],\"scattergeo\":[{\"marker\":{\"colorbar\":{\"outlinewidth\":0,\"ticks\":\"\"}},\"type\":\"scattergeo\"}],\"scattergl\":[{\"marker\":{\"colorbar\":{\"outlinewidth\":0,\"ticks\":\"\"}},\"type\":\"scattergl\"}],\"scattermapbox\":[{\"marker\":{\"colorbar\":{\"outlinewidth\":0,\"ticks\":\"\"}},\"type\":\"scattermapbox\"}],\"scatterpolargl\":[{\"marker\":{\"colorbar\":{\"outlinewidth\":0,\"ticks\":\"\"}},\"type\":\"scatterpolargl\"}],\"scatterpolar\":[{\"marker\":{\"colorbar\":{\"outlinewidth\":0,\"ticks\":\"\"}},\"type\":\"scatterpolar\"}],\"scatter\":[{\"fillpattern\":{\"fillmode\":\"overlay\",\"size\":10,\"solidity\":0.2},\"type\":\"scatter\"}],\"scatterternary\":[{\"marker\":{\"colorbar\":{\"outlinewidth\":0,\"ticks\":\"\"}},\"type\":\"scatterternary\"}],\"surface\":[{\"colorbar\":{\"outlinewidth\":0,\"ticks\":\"\"},\"colorscale\":[[0.0,\"#0d0887\"],[0.1111111111111111,\"#46039f\"],[0.2222222222222222,\"#7201a8\"],[0.3333333333333333,\"#9c179e\"],[0.4444444444444444,\"#bd3786\"],[0.5555555555555556,\"#d8576b\"],[0.6666666666666666,\"#ed7953\"],[0.7777777777777778,\"#fb9f3a\"],[0.8888888888888888,\"#fdca26\"],[1.0,\"#f0f921\"]],\"type\":\"surface\"}],\"table\":[{\"cells\":{\"fill\":{\"color\":\"#EBF0F8\"},\"line\":{\"color\":\"white\"}},\"header\":{\"fill\":{\"color\":\"#C8D4E3\"},\"line\":{\"color\":\"white\"}},\"type\":\"table\"}]},\"layout\":{\"annotationdefaults\":{\"arrowcolor\":\"#2a3f5f\",\"arrowhead\":0,\"arrowwidth\":1},\"autotypenumbers\":\"strict\",\"coloraxis\":{\"colorbar\":{\"outlinewidth\":0,\"ticks\":\"\"}},\"colorscale\":{\"diverging\":[[0,\"#8e0152\"],[0.1,\"#c51b7d\"],[0.2,\"#de77ae\"],[0.3,\"#f1b6da\"],[0.4,\"#fde0ef\"],[0.5,\"#f7f7f7\"],[0.6,\"#e6f5d0\"],[0.7,\"#b8e186\"],[0.8,\"#7fbc41\"],[0.9,\"#4d9221\"],[1,\"#276419\"]],\"sequential\":[[0.0,\"#0d0887\"],[0.1111111111111111,\"#46039f\"],[0.2222222222222222,\"#7201a8\"],[0.3333333333333333,\"#9c179e\"],[0.4444444444444444,\"#bd3786\"],[0.5555555555555556,\"#d8576b\"],[0.6666666666666666,\"#ed7953\"],[0.7777777777777778,\"#fb9f3a\"],[0.8888888888888888,\"#fdca26\"],[1.0,\"#f0f921\"]],\"sequentialminus\":[[0.0,\"#0d0887\"],[0.1111111111111111,\"#46039f\"],[0.2222222222222222,\"#7201a8\"],[0.3333333333333333,\"#9c179e\"],[0.4444444444444444,\"#bd3786\"],[0.5555555555555556,\"#d8576b\"],[0.6666666666666666,\"#ed7953\"],[0.7777777777777778,\"#fb9f3a\"],[0.8888888888888888,\"#fdca26\"],[1.0,\"#f0f921\"]]},\"colorway\":[\"#636efa\",\"#EF553B\",\"#00cc96\",\"#ab63fa\",\"#FFA15A\",\"#19d3f3\",\"#FF6692\",\"#B6E880\",\"#FF97FF\",\"#FECB52\"],\"font\":{\"color\":\"#2a3f5f\"},\"geo\":{\"bgcolor\":\"white\",\"lakecolor\":\"white\",\"landcolor\":\"#E5ECF6\",\"showlakes\":true,\"showland\":true,\"subunitcolor\":\"white\"},\"hoverlabel\":{\"align\":\"left\"},\"hovermode\":\"closest\",\"mapbox\":{\"style\":\"light\"},\"paper_bgcolor\":\"white\",\"plot_bgcolor\":\"#E5ECF6\",\"polar\":{\"angularaxis\":{\"gridcolor\":\"white\",\"linecolor\":\"white\",\"ticks\":\"\"},\"bgcolor\":\"#E5ECF6\",\"radialaxis\":{\"gridcolor\":\"white\",\"linecolor\":\"white\",\"ticks\":\"\"}},\"scene\":{\"xaxis\":{\"backgroundcolor\":\"#E5ECF6\",\"gridcolor\":\"white\",\"gridwidth\":2,\"linecolor\":\"white\",\"showbackground\":true,\"ticks\":\"\",\"zerolinecolor\":\"white\"},\"yaxis\":{\"backgroundcolor\":\"#E5ECF6\",\"gridcolor\":\"white\",\"gridwidth\":2,\"linecolor\":\"white\",\"showbackground\":true,\"ticks\":\"\",\"zerolinecolor\":\"white\"},\"zaxis\":{\"backgroundcolor\":\"#E5ECF6\",\"gridcolor\":\"white\",\"gridwidth\":2,\"linecolor\":\"white\",\"showbackground\":true,\"ticks\":\"\",\"zerolinecolor\":\"white\"}},\"shapedefaults\":{\"line\":{\"color\":\"#2a3f5f\"}},\"ternary\":{\"aaxis\":{\"gridcolor\":\"white\",\"linecolor\":\"white\",\"ticks\":\"\"},\"baxis\":{\"gridcolor\":\"white\",\"linecolor\":\"white\",\"ticks\":\"\"},\"bgcolor\":\"#E5ECF6\",\"caxis\":{\"gridcolor\":\"white\",\"linecolor\":\"white\",\"ticks\":\"\"}},\"title\":{\"x\":0.05},\"xaxis\":{\"automargin\":true,\"gridcolor\":\"white\",\"linecolor\":\"white\",\"ticks\":\"\",\"title\":{\"standoff\":15},\"zerolinecolor\":\"white\",\"zerolinewidth\":2},\"yaxis\":{\"automargin\":true,\"gridcolor\":\"white\",\"linecolor\":\"white\",\"ticks\":\"\",\"title\":{\"standoff\":15},\"zerolinecolor\":\"white\",\"zerolinewidth\":2}}},\"title\":{\"text\":\"Average House Price vs COPD Admissions\"},\"xaxis\":{\"tickformat\":\",\",\"title\":{\"text\":\"Average House Price ($)\"}},\"yaxis\":{\"tickformat\":\",\",\"title\":{\"text\":\"COPD Admissions\"}}},                        {\"responsive\": true}                    ).then(function(){\n",
       "                            \n",
       "var gd = document.getElementById('5e0458d7-358e-4a8b-9967-775a5939aa30');\n",
       "var x = new MutationObserver(function (mutations, observer) {{\n",
       "        var display = window.getComputedStyle(gd).display;\n",
       "        if (!display || display === 'none') {{\n",
       "            console.log([gd, 'removed!']);\n",
       "            Plotly.purge(gd);\n",
       "            observer.disconnect();\n",
       "        }}\n",
       "}});\n",
       "\n",
       "// Listen for the removal of the full notebook cells\n",
       "var notebookContainer = gd.closest('#notebook-container');\n",
       "if (notebookContainer) {{\n",
       "    x.observe(notebookContainer, {childList: true});\n",
       "}}\n",
       "\n",
       "// Listen for the clearing of the current output cell\n",
       "var outputEl = gd.closest('.output');\n",
       "if (outputEl) {{\n",
       "    x.observe(outputEl, {childList: true});\n",
       "}}\n",
       "\n",
       "                        })                };                });            </script>        </div>"
      ]
     },
     "metadata": {},
     "output_type": "display_data"
    }
   ],
   "source": [
    "import requests\n",
    "import pandas as pd\n",
    "import plotly.graph_objs as go\n",
    "from plotly.offline import iplot, init_notebook_mode\n",
    "\n",
    "# Initialize Plotly to work in offline mode in Jupyter\n",
    "init_notebook_mode(connected=True)\n",
    "\n",
    "# Fetch the data from the API for house prices and COPD data\n",
    "url_houseprice_copd = 'http://127.0.0.1:9090/houseprice/copd'\n",
    "response_houseprice_copd = requests.get(url_houseprice_copd)\n",
    "data_houseprice_copd = response_houseprice_copd.json()\n",
    "\n",
    "# Convert JSON data to a DataFrame\n",
    "df_houseprice_copd = pd.json_normalize(data_houseprice_copd)\n",
    "\n",
    "# Sort the DataFrame by average house price\n",
    "df_houseprice_copd = df_houseprice_copd.sort_values(by='average_price')\n",
    "\n",
    "# Create a combined trend chart\n",
    "def create_combined_trend_chart(df):\n",
    "    # Create the figure\n",
    "    fig = go.Figure()\n",
    "    \n",
    "    # Average House Price vs Average Total COPD Admissions\n",
    "    fig.add_trace(go.Scatter(\n",
    "        x=df['average_price'],\n",
    "        y=df['average_total_copd_admissions_num'],\n",
    "        mode='lines+markers',\n",
    "        name='Total COPD Admissions',\n",
    "        hovertext=[\n",
    "            f\"House Price: ${price:,}<br>Total COPD Admissions: {admissions:.2f}\"\n",
    "            for price, admissions in zip(df['average_price'], df['average_total_copd_admissions_num'])\n",
    "        ],\n",
    "        hoverinfo='text'\n",
    "    ))\n",
    "    \n",
    "    # Average House Price vs Average Male COPD Admissions\n",
    "    fig.add_trace(go.Scatter(\n",
    "        x=df['average_price'],\n",
    "        y=df['average_male_copd_admissions_num'],\n",
    "        mode='lines+markers',\n",
    "        name='Male COPD Admissions',\n",
    "        hovertext=[\n",
    "            f\"House Price: ${price:,}<br>Male COPD Admissions: {admissions:.2f}\"\n",
    "            for price, admissions in zip(df['average_price'], df['average_male_copd_admissions_num'])\n",
    "        ],\n",
    "        hoverinfo='text'\n",
    "    ))\n",
    "    \n",
    "    # Average House Price vs Average Female COPD Admissions\n",
    "    fig.add_trace(go.Scatter(\n",
    "        x=df['average_price'],\n",
    "        y=df['average_female_copd_admissions_num'],\n",
    "        mode='lines+markers',\n",
    "        name='Female COPD Admissions',\n",
    "        hovertext=[\n",
    "            f\"House Price: ${price:,}<br>Female COPD Admissions: {admissions:.2f}\"\n",
    "            for price, admissions in zip(df['average_price'], df['average_female_copd_admissions_num'])\n",
    "        ],\n",
    "        hoverinfo='text'\n",
    "    ))\n",
    "    \n",
    "    # Update layout\n",
    "    fig.update_layout(\n",
    "        title='Average House Price vs COPD Admissions',\n",
    "        xaxis_title='Average House Price ($)',\n",
    "        yaxis_title='COPD Admissions',\n",
    "        hovermode='closest'\n",
    "    )\n",
    "    \n",
    "    fig.update_xaxes(tickformat=',')\n",
    "    fig.update_yaxes(tickformat=',')\n",
    "    \n",
    "    # Display the chart\n",
    "    iplot(fig)\n",
    "\n",
    "# Generate the combined trend chart for the DataFrame\n",
    "if not df_houseprice_copd.empty:\n",
    "    create_combined_trend_chart(df_houseprice_copd)\n"
   ]
  },
  {
   "cell_type": "code",
   "execution_count": null,
   "metadata": {},
   "outputs": [],
   "source": []
  }
 ],
 "metadata": {
  "kernelspec": {
   "display_name": "Python 3 (ipykernel)",
   "language": "python",
   "name": "python3"
  },
  "language_info": {
   "codemirror_mode": {
    "name": "ipython",
    "version": 3
   },
   "file_extension": ".py",
   "mimetype": "text/x-python",
   "name": "python",
   "nbconvert_exporter": "python",
   "pygments_lexer": "ipython3",
   "version": "3.12.3"
  },
  "vscode": {
   "interpreter": {
    "hash": "7e1998ff7f8aa20ada591c520b972326324e5ea05489af9e422744c7c09f6dad"
   }
  }
 },
 "nbformat": 4,
 "nbformat_minor": 4
}
