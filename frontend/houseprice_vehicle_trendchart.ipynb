{
 "cells": [
  {
   "cell_type": "code",
   "execution_count": 25,
   "metadata": {},
   "outputs": [
    {
     "data": {
      "text/html": [
       "        <script type=\"text/javascript\">\n",
       "        window.PlotlyConfig = {MathJaxConfig: 'local'};\n",
       "        if (window.MathJax && window.MathJax.Hub && window.MathJax.Hub.Config) {window.MathJax.Hub.Config({SVG: {font: \"STIX-Web\"}});}\n",
       "        if (typeof require !== 'undefined') {\n",
       "        require.undef(\"plotly\");\n",
       "        requirejs.config({\n",
       "            paths: {\n",
       "                'plotly': ['https://cdn.plot.ly/plotly-2.32.0.min']\n",
       "            }\n",
       "        });\n",
       "        require(['plotly'], function(Plotly) {\n",
       "            window._Plotly = Plotly;\n",
       "        });\n",
       "        }\n",
       "        </script>\n",
       "        "
      ]
     },
     "metadata": {},
     "output_type": "display_data"
    },
    {
     "data": {
      "application/vnd.plotly.v1+json": {
       "config": {
        "linkText": "Export to plot.ly",
        "plotlyServerURL": "https://plot.ly",
        "showLink": false
       },
       "data": [
        {
         "hoverinfo": "text",
         "hovertext": [
          "House Price: $437,640.873015873<br>No Vehicle per Dwelling: 1354",
          "House Price: $545,321.4285714285<br>No Vehicle per Dwelling: 2967",
          "House Price: $575,107.9424778761<br>No Vehicle per Dwelling: 1861",
          "House Price: $670,000.0<br>No Vehicle per Dwelling: 1576",
          "House Price: $670,333.1884368309<br>No Vehicle per Dwelling: 4398",
          "House Price: $758,445.9434652478<br>No Vehicle per Dwelling: 8418",
          "House Price: $849,979.4670846395<br>No Vehicle per Dwelling: 883",
          "House Price: $861,608.6939313984<br>No Vehicle per Dwelling: 1934",
          "House Price: $887,176.0711095843<br>No Vehicle per Dwelling: 4294",
          "House Price: $1,051,886.380597015<br>No Vehicle per Dwelling: 2504",
          "House Price: $1,165,231.724870764<br>No Vehicle per Dwelling: 7470",
          "House Price: $1,346,494.1986365046<br>No Vehicle per Dwelling: 4872",
          "House Price: $1,400,925.0117967331<br>No Vehicle per Dwelling: 7162",
          "House Price: $1,447,335.6231825524<br>No Vehicle per Dwelling: 4819"
         ],
         "mode": "lines+markers",
         "name": "No Vehicle",
         "type": "scatter",
         "x": [
          437640.873015873,
          545321.4285714285,
          575107.9424778761,
          670000,
          670333.1884368309,
          758445.9434652478,
          849979.4670846395,
          861608.6939313984,
          887176.0711095843,
          1051886.380597015,
          1165231.724870764,
          1346494.1986365046,
          1400925.0117967331,
          1447335.6231825524
         ],
         "y": [
          1354,
          2967,
          1861,
          1576,
          4398,
          8418,
          883,
          1934,
          4294,
          2504,
          7470,
          4872,
          7162,
          4819
         ]
        },
        {
         "hoverinfo": "text",
         "hovertext": [
          "House Price: $437,640.873015873<br>One Vehicle per Dwelling: 11498",
          "House Price: $545,321.4285714285<br>One Vehicle per Dwelling: 19353",
          "House Price: $575,107.9424778761<br>One Vehicle per Dwelling: 12083",
          "House Price: $670,000.0<br>One Vehicle per Dwelling: 13954",
          "House Price: $670,333.1884368309<br>One Vehicle per Dwelling: 19657",
          "House Price: $758,445.9434652478<br>One Vehicle per Dwelling: 27032",
          "House Price: $849,979.4670846395<br>One Vehicle per Dwelling: 8601",
          "House Price: $861,608.6939313984<br>One Vehicle per Dwelling: 13468",
          "House Price: $887,176.0711095843<br>One Vehicle per Dwelling: 13433",
          "House Price: $1,051,886.380597015<br>One Vehicle per Dwelling: 12482",
          "House Price: $1,165,231.724870764<br>One Vehicle per Dwelling: 19571",
          "House Price: $1,346,494.1986365046<br>One Vehicle per Dwelling: 21194",
          "House Price: $1,400,925.0117967331<br>One Vehicle per Dwelling: 23971",
          "House Price: $1,447,335.6231825524<br>One Vehicle per Dwelling: 21447"
         ],
         "mode": "lines+markers",
         "name": "One Vehicle",
         "type": "scatter",
         "x": [
          437640.873015873,
          545321.4285714285,
          575107.9424778761,
          670000,
          670333.1884368309,
          758445.9434652478,
          849979.4670846395,
          861608.6939313984,
          887176.0711095843,
          1051886.380597015,
          1165231.724870764,
          1346494.1986365046,
          1400925.0117967331,
          1447335.6231825524
         ],
         "y": [
          11498,
          19353,
          12083,
          13954,
          19657,
          27032,
          8601,
          13468,
          13433,
          12482,
          19571,
          21194,
          23971,
          21447
         ]
        },
        {
         "hoverinfo": "text",
         "hovertext": [
          "House Price: $437,640.873015873<br>Two Vehicles per Dwelling: 18425",
          "House Price: $545,321.4285714285<br>Two Vehicles per Dwelling: 26507",
          "House Price: $575,107.9424778761<br>Two Vehicles per Dwelling: 14911",
          "House Price: $670,000.0<br>Two Vehicles per Dwelling: 21314",
          "House Price: $670,333.1884368309<br>Two Vehicles per Dwelling: 22247",
          "House Price: $758,445.9434652478<br>Two Vehicles per Dwelling: 17644",
          "House Price: $849,979.4670846395<br>Two Vehicles per Dwelling: 13014",
          "House Price: $861,608.6939313984<br>Two Vehicles per Dwelling: 16294",
          "House Price: $887,176.0711095843<br>Two Vehicles per Dwelling: 9189",
          "House Price: $1,051,886.380597015<br>Two Vehicles per Dwelling: 11994",
          "House Price: $1,165,231.724870764<br>Two Vehicles per Dwelling: 12101",
          "House Price: $1,346,494.1986365046<br>Two Vehicles per Dwelling: 19021",
          "House Price: $1,400,925.0117967331<br>Two Vehicles per Dwelling: 16280",
          "House Price: $1,447,335.6231825524<br>Two Vehicles per Dwelling: 24478"
         ],
         "mode": "lines+markers",
         "name": "Two Vehicles",
         "type": "scatter",
         "x": [
          437640.873015873,
          545321.4285714285,
          575107.9424778761,
          670000,
          670333.1884368309,
          758445.9434652478,
          849979.4670846395,
          861608.6939313984,
          887176.0711095843,
          1051886.380597015,
          1165231.724870764,
          1346494.1986365046,
          1400925.0117967331,
          1447335.6231825524
         ],
         "y": [
          18425,
          26507,
          14911,
          21314,
          22247,
          17644,
          13014,
          16294,
          9189,
          11994,
          12101,
          19021,
          16280,
          24478
         ]
        },
        {
         "hoverinfo": "text",
         "hovertext": [
          "House Price: $437,640.873015873<br>Three Vehicles per Dwelling: 5952",
          "House Price: $545,321.4285714285<br>Three Vehicles per Dwelling: 8606",
          "House Price: $575,107.9424778761<br>Three Vehicles per Dwelling: 3865",
          "House Price: $670,000.0<br>Three Vehicles per Dwelling: 8234",
          "House Price: $670,333.1884368309<br>Three Vehicles per Dwelling: 8468",
          "House Price: $758,445.9434652478<br>Three Vehicles per Dwelling: 4424",
          "House Price: $849,979.4670846395<br>Three Vehicles per Dwelling: 4688",
          "House Price: $861,608.6939313984<br>Three Vehicles per Dwelling: 4796",
          "House Price: $887,176.0711095843<br>Three Vehicles per Dwelling: 1996",
          "House Price: $1,051,886.380597015<br>Three Vehicles per Dwelling: 3147",
          "House Price: $1,165,231.724870764<br>Three Vehicles per Dwelling: 2659",
          "House Price: $1,346,494.1986365046<br>Three Vehicles per Dwelling: 4260",
          "House Price: $1,400,925.0117967331<br>Three Vehicles per Dwelling: 3967",
          "House Price: $1,447,335.6231825524<br>Three Vehicles per Dwelling: 7176"
         ],
         "mode": "lines+markers",
         "name": "Three Vehicles",
         "type": "scatter",
         "x": [
          437640.873015873,
          545321.4285714285,
          575107.9424778761,
          670000,
          670333.1884368309,
          758445.9434652478,
          849979.4670846395,
          861608.6939313984,
          887176.0711095843,
          1051886.380597015,
          1165231.724870764,
          1346494.1986365046,
          1400925.0117967331,
          1447335.6231825524
         ],
         "y": [
          5952,
          8606,
          3865,
          8234,
          8468,
          4424,
          4688,
          4796,
          1996,
          3147,
          2659,
          4260,
          3967,
          7176
         ]
        },
        {
         "hoverinfo": "text",
         "hovertext": [
          "House Price: $437,640.873015873<br>More than Four Vehicles per Dwelling: 3218",
          "House Price: $545,321.4285714285<br>More than Four Vehicles per Dwelling: 4582",
          "House Price: $575,107.9424778761<br>More than Four Vehicles per Dwelling: 1703",
          "House Price: $670,000.0<br>More than Four Vehicles per Dwelling: 5607",
          "House Price: $670,333.1884368309<br>More than Four Vehicles per Dwelling: 4371",
          "House Price: $758,445.9434652478<br>More than Four Vehicles per Dwelling: 2017",
          "House Price: $849,979.4670846395<br>More than Four Vehicles per Dwelling: 3059",
          "House Price: $861,608.6939313984<br>More than Four Vehicles per Dwelling: 2583",
          "House Price: $887,176.0711095843<br>More than Four Vehicles per Dwelling: 792",
          "House Price: $1,051,886.380597015<br>More than Four Vehicles per Dwelling: 1519",
          "House Price: $1,165,231.724870764<br>More than Four Vehicles per Dwelling: 1263",
          "House Price: $1,346,494.1986365046<br>More than Four Vehicles per Dwelling: 1895",
          "House Price: $1,400,925.0117967331<br>More than Four Vehicles per Dwelling: 1768",
          "House Price: $1,447,335.6231825524<br>More than Four Vehicles per Dwelling: 3157"
         ],
         "mode": "lines+markers",
         "name": "More than Four Vehicles",
         "type": "scatter",
         "x": [
          437640.873015873,
          545321.4285714285,
          575107.9424778761,
          670000,
          670333.1884368309,
          758445.9434652478,
          849979.4670846395,
          861608.6939313984,
          887176.0711095843,
          1051886.380597015,
          1165231.724870764,
          1346494.1986365046,
          1400925.0117967331,
          1447335.6231825524
         ],
         "y": [
          3218,
          4582,
          1703,
          5607,
          4371,
          2017,
          3059,
          2583,
          792,
          1519,
          1263,
          1895,
          1768,
          3157
         ]
        }
       ],
       "layout": {
        "autosize": true,
        "hovermode": "closest",
        "template": {
         "data": {
          "bar": [
           {
            "error_x": {
             "color": "#2a3f5f"
            },
            "error_y": {
             "color": "#2a3f5f"
            },
            "marker": {
             "line": {
              "color": "#E5ECF6",
              "width": 0.5
             },
             "pattern": {
              "fillmode": "overlay",
              "size": 10,
              "solidity": 0.2
             }
            },
            "type": "bar"
           }
          ],
          "barpolar": [
           {
            "marker": {
             "line": {
              "color": "#E5ECF6",
              "width": 0.5
             },
             "pattern": {
              "fillmode": "overlay",
              "size": 10,
              "solidity": 0.2
             }
            },
            "type": "barpolar"
           }
          ],
          "carpet": [
           {
            "aaxis": {
             "endlinecolor": "#2a3f5f",
             "gridcolor": "white",
             "linecolor": "white",
             "minorgridcolor": "white",
             "startlinecolor": "#2a3f5f"
            },
            "baxis": {
             "endlinecolor": "#2a3f5f",
             "gridcolor": "white",
             "linecolor": "white",
             "minorgridcolor": "white",
             "startlinecolor": "#2a3f5f"
            },
            "type": "carpet"
           }
          ],
          "choropleth": [
           {
            "colorbar": {
             "outlinewidth": 0,
             "ticks": ""
            },
            "type": "choropleth"
           }
          ],
          "contour": [
           {
            "colorbar": {
             "outlinewidth": 0,
             "ticks": ""
            },
            "colorscale": [
             [
              0,
              "#0d0887"
             ],
             [
              0.1111111111111111,
              "#46039f"
             ],
             [
              0.2222222222222222,
              "#7201a8"
             ],
             [
              0.3333333333333333,
              "#9c179e"
             ],
             [
              0.4444444444444444,
              "#bd3786"
             ],
             [
              0.5555555555555556,
              "#d8576b"
             ],
             [
              0.6666666666666666,
              "#ed7953"
             ],
             [
              0.7777777777777778,
              "#fb9f3a"
             ],
             [
              0.8888888888888888,
              "#fdca26"
             ],
             [
              1,
              "#f0f921"
             ]
            ],
            "type": "contour"
           }
          ],
          "contourcarpet": [
           {
            "colorbar": {
             "outlinewidth": 0,
             "ticks": ""
            },
            "type": "contourcarpet"
           }
          ],
          "heatmap": [
           {
            "colorbar": {
             "outlinewidth": 0,
             "ticks": ""
            },
            "colorscale": [
             [
              0,
              "#0d0887"
             ],
             [
              0.1111111111111111,
              "#46039f"
             ],
             [
              0.2222222222222222,
              "#7201a8"
             ],
             [
              0.3333333333333333,
              "#9c179e"
             ],
             [
              0.4444444444444444,
              "#bd3786"
             ],
             [
              0.5555555555555556,
              "#d8576b"
             ],
             [
              0.6666666666666666,
              "#ed7953"
             ],
             [
              0.7777777777777778,
              "#fb9f3a"
             ],
             [
              0.8888888888888888,
              "#fdca26"
             ],
             [
              1,
              "#f0f921"
             ]
            ],
            "type": "heatmap"
           }
          ],
          "heatmapgl": [
           {
            "colorbar": {
             "outlinewidth": 0,
             "ticks": ""
            },
            "colorscale": [
             [
              0,
              "#0d0887"
             ],
             [
              0.1111111111111111,
              "#46039f"
             ],
             [
              0.2222222222222222,
              "#7201a8"
             ],
             [
              0.3333333333333333,
              "#9c179e"
             ],
             [
              0.4444444444444444,
              "#bd3786"
             ],
             [
              0.5555555555555556,
              "#d8576b"
             ],
             [
              0.6666666666666666,
              "#ed7953"
             ],
             [
              0.7777777777777778,
              "#fb9f3a"
             ],
             [
              0.8888888888888888,
              "#fdca26"
             ],
             [
              1,
              "#f0f921"
             ]
            ],
            "type": "heatmapgl"
           }
          ],
          "histogram": [
           {
            "marker": {
             "pattern": {
              "fillmode": "overlay",
              "size": 10,
              "solidity": 0.2
             }
            },
            "type": "histogram"
           }
          ],
          "histogram2d": [
           {
            "colorbar": {
             "outlinewidth": 0,
             "ticks": ""
            },
            "colorscale": [
             [
              0,
              "#0d0887"
             ],
             [
              0.1111111111111111,
              "#46039f"
             ],
             [
              0.2222222222222222,
              "#7201a8"
             ],
             [
              0.3333333333333333,
              "#9c179e"
             ],
             [
              0.4444444444444444,
              "#bd3786"
             ],
             [
              0.5555555555555556,
              "#d8576b"
             ],
             [
              0.6666666666666666,
              "#ed7953"
             ],
             [
              0.7777777777777778,
              "#fb9f3a"
             ],
             [
              0.8888888888888888,
              "#fdca26"
             ],
             [
              1,
              "#f0f921"
             ]
            ],
            "type": "histogram2d"
           }
          ],
          "histogram2dcontour": [
           {
            "colorbar": {
             "outlinewidth": 0,
             "ticks": ""
            },
            "colorscale": [
             [
              0,
              "#0d0887"
             ],
             [
              0.1111111111111111,
              "#46039f"
             ],
             [
              0.2222222222222222,
              "#7201a8"
             ],
             [
              0.3333333333333333,
              "#9c179e"
             ],
             [
              0.4444444444444444,
              "#bd3786"
             ],
             [
              0.5555555555555556,
              "#d8576b"
             ],
             [
              0.6666666666666666,
              "#ed7953"
             ],
             [
              0.7777777777777778,
              "#fb9f3a"
             ],
             [
              0.8888888888888888,
              "#fdca26"
             ],
             [
              1,
              "#f0f921"
             ]
            ],
            "type": "histogram2dcontour"
           }
          ],
          "mesh3d": [
           {
            "colorbar": {
             "outlinewidth": 0,
             "ticks": ""
            },
            "type": "mesh3d"
           }
          ],
          "parcoords": [
           {
            "line": {
             "colorbar": {
              "outlinewidth": 0,
              "ticks": ""
             }
            },
            "type": "parcoords"
           }
          ],
          "pie": [
           {
            "automargin": true,
            "type": "pie"
           }
          ],
          "scatter": [
           {
            "fillpattern": {
             "fillmode": "overlay",
             "size": 10,
             "solidity": 0.2
            },
            "type": "scatter"
           }
          ],
          "scatter3d": [
           {
            "line": {
             "colorbar": {
              "outlinewidth": 0,
              "ticks": ""
             }
            },
            "marker": {
             "colorbar": {
              "outlinewidth": 0,
              "ticks": ""
             }
            },
            "type": "scatter3d"
           }
          ],
          "scattercarpet": [
           {
            "marker": {
             "colorbar": {
              "outlinewidth": 0,
              "ticks": ""
             }
            },
            "type": "scattercarpet"
           }
          ],
          "scattergeo": [
           {
            "marker": {
             "colorbar": {
              "outlinewidth": 0,
              "ticks": ""
             }
            },
            "type": "scattergeo"
           }
          ],
          "scattergl": [
           {
            "marker": {
             "colorbar": {
              "outlinewidth": 0,
              "ticks": ""
             }
            },
            "type": "scattergl"
           }
          ],
          "scattermapbox": [
           {
            "marker": {
             "colorbar": {
              "outlinewidth": 0,
              "ticks": ""
             }
            },
            "type": "scattermapbox"
           }
          ],
          "scatterpolar": [
           {
            "marker": {
             "colorbar": {
              "outlinewidth": 0,
              "ticks": ""
             }
            },
            "type": "scatterpolar"
           }
          ],
          "scatterpolargl": [
           {
            "marker": {
             "colorbar": {
              "outlinewidth": 0,
              "ticks": ""
             }
            },
            "type": "scatterpolargl"
           }
          ],
          "scatterternary": [
           {
            "marker": {
             "colorbar": {
              "outlinewidth": 0,
              "ticks": ""
             }
            },
            "type": "scatterternary"
           }
          ],
          "surface": [
           {
            "colorbar": {
             "outlinewidth": 0,
             "ticks": ""
            },
            "colorscale": [
             [
              0,
              "#0d0887"
             ],
             [
              0.1111111111111111,
              "#46039f"
             ],
             [
              0.2222222222222222,
              "#7201a8"
             ],
             [
              0.3333333333333333,
              "#9c179e"
             ],
             [
              0.4444444444444444,
              "#bd3786"
             ],
             [
              0.5555555555555556,
              "#d8576b"
             ],
             [
              0.6666666666666666,
              "#ed7953"
             ],
             [
              0.7777777777777778,
              "#fb9f3a"
             ],
             [
              0.8888888888888888,
              "#fdca26"
             ],
             [
              1,
              "#f0f921"
             ]
            ],
            "type": "surface"
           }
          ],
          "table": [
           {
            "cells": {
             "fill": {
              "color": "#EBF0F8"
             },
             "line": {
              "color": "white"
             }
            },
            "header": {
             "fill": {
              "color": "#C8D4E3"
             },
             "line": {
              "color": "white"
             }
            },
            "type": "table"
           }
          ]
         },
         "layout": {
          "annotationdefaults": {
           "arrowcolor": "#2a3f5f",
           "arrowhead": 0,
           "arrowwidth": 1
          },
          "autotypenumbers": "strict",
          "coloraxis": {
           "colorbar": {
            "outlinewidth": 0,
            "ticks": ""
           }
          },
          "colorscale": {
           "diverging": [
            [
             0,
             "#8e0152"
            ],
            [
             0.1,
             "#c51b7d"
            ],
            [
             0.2,
             "#de77ae"
            ],
            [
             0.3,
             "#f1b6da"
            ],
            [
             0.4,
             "#fde0ef"
            ],
            [
             0.5,
             "#f7f7f7"
            ],
            [
             0.6,
             "#e6f5d0"
            ],
            [
             0.7,
             "#b8e186"
            ],
            [
             0.8,
             "#7fbc41"
            ],
            [
             0.9,
             "#4d9221"
            ],
            [
             1,
             "#276419"
            ]
           ],
           "sequential": [
            [
             0,
             "#0d0887"
            ],
            [
             0.1111111111111111,
             "#46039f"
            ],
            [
             0.2222222222222222,
             "#7201a8"
            ],
            [
             0.3333333333333333,
             "#9c179e"
            ],
            [
             0.4444444444444444,
             "#bd3786"
            ],
            [
             0.5555555555555556,
             "#d8576b"
            ],
            [
             0.6666666666666666,
             "#ed7953"
            ],
            [
             0.7777777777777778,
             "#fb9f3a"
            ],
            [
             0.8888888888888888,
             "#fdca26"
            ],
            [
             1,
             "#f0f921"
            ]
           ],
           "sequentialminus": [
            [
             0,
             "#0d0887"
            ],
            [
             0.1111111111111111,
             "#46039f"
            ],
            [
             0.2222222222222222,
             "#7201a8"
            ],
            [
             0.3333333333333333,
             "#9c179e"
            ],
            [
             0.4444444444444444,
             "#bd3786"
            ],
            [
             0.5555555555555556,
             "#d8576b"
            ],
            [
             0.6666666666666666,
             "#ed7953"
            ],
            [
             0.7777777777777778,
             "#fb9f3a"
            ],
            [
             0.8888888888888888,
             "#fdca26"
            ],
            [
             1,
             "#f0f921"
            ]
           ]
          },
          "colorway": [
           "#636efa",
           "#EF553B",
           "#00cc96",
           "#ab63fa",
           "#FFA15A",
           "#19d3f3",
           "#FF6692",
           "#B6E880",
           "#FF97FF",
           "#FECB52"
          ],
          "font": {
           "color": "#2a3f5f"
          },
          "geo": {
           "bgcolor": "white",
           "lakecolor": "white",
           "landcolor": "#E5ECF6",
           "showlakes": true,
           "showland": true,
           "subunitcolor": "white"
          },
          "hoverlabel": {
           "align": "left"
          },
          "hovermode": "closest",
          "mapbox": {
           "style": "light"
          },
          "paper_bgcolor": "white",
          "plot_bgcolor": "#E5ECF6",
          "polar": {
           "angularaxis": {
            "gridcolor": "white",
            "linecolor": "white",
            "ticks": ""
           },
           "bgcolor": "#E5ECF6",
           "radialaxis": {
            "gridcolor": "white",
            "linecolor": "white",
            "ticks": ""
           }
          },
          "scene": {
           "xaxis": {
            "backgroundcolor": "#E5ECF6",
            "gridcolor": "white",
            "gridwidth": 2,
            "linecolor": "white",
            "showbackground": true,
            "ticks": "",
            "zerolinecolor": "white"
           },
           "yaxis": {
            "backgroundcolor": "#E5ECF6",
            "gridcolor": "white",
            "gridwidth": 2,
            "linecolor": "white",
            "showbackground": true,
            "ticks": "",
            "zerolinecolor": "white"
           },
           "zaxis": {
            "backgroundcolor": "#E5ECF6",
            "gridcolor": "white",
            "gridwidth": 2,
            "linecolor": "white",
            "showbackground": true,
            "ticks": "",
            "zerolinecolor": "white"
           }
          },
          "shapedefaults": {
           "line": {
            "color": "#2a3f5f"
           }
          },
          "ternary": {
           "aaxis": {
            "gridcolor": "white",
            "linecolor": "white",
            "ticks": ""
           },
           "baxis": {
            "gridcolor": "white",
            "linecolor": "white",
            "ticks": ""
           },
           "bgcolor": "#E5ECF6",
           "caxis": {
            "gridcolor": "white",
            "linecolor": "white",
            "ticks": ""
           }
          },
          "title": {
           "x": 0.05
          },
          "xaxis": {
           "automargin": true,
           "gridcolor": "white",
           "linecolor": "white",
           "ticks": "",
           "title": {
            "standoff": 15
           },
           "zerolinecolor": "white",
           "zerolinewidth": 2
          },
          "yaxis": {
           "automargin": true,
           "gridcolor": "white",
           "linecolor": "white",
           "ticks": "",
           "title": {
            "standoff": 15
           },
           "zerolinecolor": "white",
           "zerolinewidth": 2
          }
         }
        },
        "title": {
         "text": "Average House Price vs Vehicle Data per Dwelling"
        },
        "xaxis": {
         "autorange": true,
         "range": [
          375787.56696527905,
          1509188.9292331464
         ],
         "tickformat": ",",
         "title": {
          "text": "Average House Price ($)"
         },
         "type": "linear"
        },
        "yaxis": {
         "autorange": true,
         "range": [
          -1373.4368932038833,
          29197.436893203885
         ],
         "tickformat": ",",
         "title": {
          "text": "Vehicle Data per Dwelling"
         },
         "type": "linear"
        }
       }
      },
      "text/html": [
       "<div>                            <div id=\"bdf6e694-7c6f-481c-9669-a894c041b1df\" class=\"plotly-graph-div\" style=\"height:525px; width:100%;\"></div>            <script type=\"text/javascript\">                require([\"plotly\"], function(Plotly) {                    window.PLOTLYENV=window.PLOTLYENV || {};                                    if (document.getElementById(\"bdf6e694-7c6f-481c-9669-a894c041b1df\")) {                    Plotly.newPlot(                        \"bdf6e694-7c6f-481c-9669-a894c041b1df\",                        [{\"hoverinfo\":\"text\",\"hovertext\":[\"House Price: $437,640.873015873\\u003cbr\\u003eNo Vehicle per Dwelling: 1354\",\"House Price: $545,321.4285714285\\u003cbr\\u003eNo Vehicle per Dwelling: 2967\",\"House Price: $575,107.9424778761\\u003cbr\\u003eNo Vehicle per Dwelling: 1861\",\"House Price: $670,000.0\\u003cbr\\u003eNo Vehicle per Dwelling: 1576\",\"House Price: $670,333.1884368309\\u003cbr\\u003eNo Vehicle per Dwelling: 4398\",\"House Price: $758,445.9434652478\\u003cbr\\u003eNo Vehicle per Dwelling: 8418\",\"House Price: $849,979.4670846395\\u003cbr\\u003eNo Vehicle per Dwelling: 883\",\"House Price: $861,608.6939313984\\u003cbr\\u003eNo Vehicle per Dwelling: 1934\",\"House Price: $887,176.0711095843\\u003cbr\\u003eNo Vehicle per Dwelling: 4294\",\"House Price: $1,051,886.380597015\\u003cbr\\u003eNo Vehicle per Dwelling: 2504\",\"House Price: $1,165,231.724870764\\u003cbr\\u003eNo Vehicle per Dwelling: 7470\",\"House Price: $1,346,494.1986365046\\u003cbr\\u003eNo Vehicle per Dwelling: 4872\",\"House Price: $1,400,925.0117967331\\u003cbr\\u003eNo Vehicle per Dwelling: 7162\",\"House Price: $1,447,335.6231825524\\u003cbr\\u003eNo Vehicle per Dwelling: 4819\"],\"mode\":\"lines+markers\",\"name\":\"No Vehicle\",\"x\":[437640.873015873,545321.4285714285,575107.9424778761,670000.0,670333.1884368309,758445.9434652478,849979.4670846395,861608.6939313984,887176.0711095843,1051886.380597015,1165231.724870764,1346494.1986365046,1400925.0117967331,1447335.6231825524],\"y\":[1354,2967,1861,1576,4398,8418,883,1934,4294,2504,7470,4872,7162,4819],\"type\":\"scatter\"},{\"hoverinfo\":\"text\",\"hovertext\":[\"House Price: $437,640.873015873\\u003cbr\\u003eOne Vehicle per Dwelling: 11498\",\"House Price: $545,321.4285714285\\u003cbr\\u003eOne Vehicle per Dwelling: 19353\",\"House Price: $575,107.9424778761\\u003cbr\\u003eOne Vehicle per Dwelling: 12083\",\"House Price: $670,000.0\\u003cbr\\u003eOne Vehicle per Dwelling: 13954\",\"House Price: $670,333.1884368309\\u003cbr\\u003eOne Vehicle per Dwelling: 19657\",\"House Price: $758,445.9434652478\\u003cbr\\u003eOne Vehicle per Dwelling: 27032\",\"House Price: $849,979.4670846395\\u003cbr\\u003eOne Vehicle per Dwelling: 8601\",\"House Price: $861,608.6939313984\\u003cbr\\u003eOne Vehicle per Dwelling: 13468\",\"House Price: $887,176.0711095843\\u003cbr\\u003eOne Vehicle per Dwelling: 13433\",\"House Price: $1,051,886.380597015\\u003cbr\\u003eOne Vehicle per Dwelling: 12482\",\"House Price: $1,165,231.724870764\\u003cbr\\u003eOne Vehicle per Dwelling: 19571\",\"House Price: $1,346,494.1986365046\\u003cbr\\u003eOne Vehicle per Dwelling: 21194\",\"House Price: $1,400,925.0117967331\\u003cbr\\u003eOne Vehicle per Dwelling: 23971\",\"House Price: $1,447,335.6231825524\\u003cbr\\u003eOne Vehicle per Dwelling: 21447\"],\"mode\":\"lines+markers\",\"name\":\"One Vehicle\",\"x\":[437640.873015873,545321.4285714285,575107.9424778761,670000.0,670333.1884368309,758445.9434652478,849979.4670846395,861608.6939313984,887176.0711095843,1051886.380597015,1165231.724870764,1346494.1986365046,1400925.0117967331,1447335.6231825524],\"y\":[11498,19353,12083,13954,19657,27032,8601,13468,13433,12482,19571,21194,23971,21447],\"type\":\"scatter\"},{\"hoverinfo\":\"text\",\"hovertext\":[\"House Price: $437,640.873015873\\u003cbr\\u003eTwo Vehicles per Dwelling: 18425\",\"House Price: $545,321.4285714285\\u003cbr\\u003eTwo Vehicles per Dwelling: 26507\",\"House Price: $575,107.9424778761\\u003cbr\\u003eTwo Vehicles per Dwelling: 14911\",\"House Price: $670,000.0\\u003cbr\\u003eTwo Vehicles per Dwelling: 21314\",\"House Price: $670,333.1884368309\\u003cbr\\u003eTwo Vehicles per Dwelling: 22247\",\"House Price: $758,445.9434652478\\u003cbr\\u003eTwo Vehicles per Dwelling: 17644\",\"House Price: $849,979.4670846395\\u003cbr\\u003eTwo Vehicles per Dwelling: 13014\",\"House Price: $861,608.6939313984\\u003cbr\\u003eTwo Vehicles per Dwelling: 16294\",\"House Price: $887,176.0711095843\\u003cbr\\u003eTwo Vehicles per Dwelling: 9189\",\"House Price: $1,051,886.380597015\\u003cbr\\u003eTwo Vehicles per Dwelling: 11994\",\"House Price: $1,165,231.724870764\\u003cbr\\u003eTwo Vehicles per Dwelling: 12101\",\"House Price: $1,346,494.1986365046\\u003cbr\\u003eTwo Vehicles per Dwelling: 19021\",\"House Price: $1,400,925.0117967331\\u003cbr\\u003eTwo Vehicles per Dwelling: 16280\",\"House Price: $1,447,335.6231825524\\u003cbr\\u003eTwo Vehicles per Dwelling: 24478\"],\"mode\":\"lines+markers\",\"name\":\"Two Vehicles\",\"x\":[437640.873015873,545321.4285714285,575107.9424778761,670000.0,670333.1884368309,758445.9434652478,849979.4670846395,861608.6939313984,887176.0711095843,1051886.380597015,1165231.724870764,1346494.1986365046,1400925.0117967331,1447335.6231825524],\"y\":[18425,26507,14911,21314,22247,17644,13014,16294,9189,11994,12101,19021,16280,24478],\"type\":\"scatter\"},{\"hoverinfo\":\"text\",\"hovertext\":[\"House Price: $437,640.873015873\\u003cbr\\u003eThree Vehicles per Dwelling: 5952\",\"House Price: $545,321.4285714285\\u003cbr\\u003eThree Vehicles per Dwelling: 8606\",\"House Price: $575,107.9424778761\\u003cbr\\u003eThree Vehicles per Dwelling: 3865\",\"House Price: $670,000.0\\u003cbr\\u003eThree Vehicles per Dwelling: 8234\",\"House Price: $670,333.1884368309\\u003cbr\\u003eThree Vehicles per Dwelling: 8468\",\"House Price: $758,445.9434652478\\u003cbr\\u003eThree Vehicles per Dwelling: 4424\",\"House Price: $849,979.4670846395\\u003cbr\\u003eThree Vehicles per Dwelling: 4688\",\"House Price: $861,608.6939313984\\u003cbr\\u003eThree Vehicles per Dwelling: 4796\",\"House Price: $887,176.0711095843\\u003cbr\\u003eThree Vehicles per Dwelling: 1996\",\"House Price: $1,051,886.380597015\\u003cbr\\u003eThree Vehicles per Dwelling: 3147\",\"House Price: $1,165,231.724870764\\u003cbr\\u003eThree Vehicles per Dwelling: 2659\",\"House Price: $1,346,494.1986365046\\u003cbr\\u003eThree Vehicles per Dwelling: 4260\",\"House Price: $1,400,925.0117967331\\u003cbr\\u003eThree Vehicles per Dwelling: 3967\",\"House Price: $1,447,335.6231825524\\u003cbr\\u003eThree Vehicles per Dwelling: 7176\"],\"mode\":\"lines+markers\",\"name\":\"Three Vehicles\",\"x\":[437640.873015873,545321.4285714285,575107.9424778761,670000.0,670333.1884368309,758445.9434652478,849979.4670846395,861608.6939313984,887176.0711095843,1051886.380597015,1165231.724870764,1346494.1986365046,1400925.0117967331,1447335.6231825524],\"y\":[5952,8606,3865,8234,8468,4424,4688,4796,1996,3147,2659,4260,3967,7176],\"type\":\"scatter\"},{\"hoverinfo\":\"text\",\"hovertext\":[\"House Price: $437,640.873015873\\u003cbr\\u003eMore than Four Vehicles per Dwelling: 3218\",\"House Price: $545,321.4285714285\\u003cbr\\u003eMore than Four Vehicles per Dwelling: 4582\",\"House Price: $575,107.9424778761\\u003cbr\\u003eMore than Four Vehicles per Dwelling: 1703\",\"House Price: $670,000.0\\u003cbr\\u003eMore than Four Vehicles per Dwelling: 5607\",\"House Price: $670,333.1884368309\\u003cbr\\u003eMore than Four Vehicles per Dwelling: 4371\",\"House Price: $758,445.9434652478\\u003cbr\\u003eMore than Four Vehicles per Dwelling: 2017\",\"House Price: $849,979.4670846395\\u003cbr\\u003eMore than Four Vehicles per Dwelling: 3059\",\"House Price: $861,608.6939313984\\u003cbr\\u003eMore than Four Vehicles per Dwelling: 2583\",\"House Price: $887,176.0711095843\\u003cbr\\u003eMore than Four Vehicles per Dwelling: 792\",\"House Price: $1,051,886.380597015\\u003cbr\\u003eMore than Four Vehicles per Dwelling: 1519\",\"House Price: $1,165,231.724870764\\u003cbr\\u003eMore than Four Vehicles per Dwelling: 1263\",\"House Price: $1,346,494.1986365046\\u003cbr\\u003eMore than Four Vehicles per Dwelling: 1895\",\"House Price: $1,400,925.0117967331\\u003cbr\\u003eMore than Four Vehicles per Dwelling: 1768\",\"House Price: $1,447,335.6231825524\\u003cbr\\u003eMore than Four Vehicles per Dwelling: 3157\"],\"mode\":\"lines+markers\",\"name\":\"More than Four Vehicles\",\"x\":[437640.873015873,545321.4285714285,575107.9424778761,670000.0,670333.1884368309,758445.9434652478,849979.4670846395,861608.6939313984,887176.0711095843,1051886.380597015,1165231.724870764,1346494.1986365046,1400925.0117967331,1447335.6231825524],\"y\":[3218,4582,1703,5607,4371,2017,3059,2583,792,1519,1263,1895,1768,3157],\"type\":\"scatter\"}],                        {\"hovermode\":\"closest\",\"template\":{\"data\":{\"barpolar\":[{\"marker\":{\"line\":{\"color\":\"#E5ECF6\",\"width\":0.5},\"pattern\":{\"fillmode\":\"overlay\",\"size\":10,\"solidity\":0.2}},\"type\":\"barpolar\"}],\"bar\":[{\"error_x\":{\"color\":\"#2a3f5f\"},\"error_y\":{\"color\":\"#2a3f5f\"},\"marker\":{\"line\":{\"color\":\"#E5ECF6\",\"width\":0.5},\"pattern\":{\"fillmode\":\"overlay\",\"size\":10,\"solidity\":0.2}},\"type\":\"bar\"}],\"carpet\":[{\"aaxis\":{\"endlinecolor\":\"#2a3f5f\",\"gridcolor\":\"white\",\"linecolor\":\"white\",\"minorgridcolor\":\"white\",\"startlinecolor\":\"#2a3f5f\"},\"baxis\":{\"endlinecolor\":\"#2a3f5f\",\"gridcolor\":\"white\",\"linecolor\":\"white\",\"minorgridcolor\":\"white\",\"startlinecolor\":\"#2a3f5f\"},\"type\":\"carpet\"}],\"choropleth\":[{\"colorbar\":{\"outlinewidth\":0,\"ticks\":\"\"},\"type\":\"choropleth\"}],\"contourcarpet\":[{\"colorbar\":{\"outlinewidth\":0,\"ticks\":\"\"},\"type\":\"contourcarpet\"}],\"contour\":[{\"colorbar\":{\"outlinewidth\":0,\"ticks\":\"\"},\"colorscale\":[[0.0,\"#0d0887\"],[0.1111111111111111,\"#46039f\"],[0.2222222222222222,\"#7201a8\"],[0.3333333333333333,\"#9c179e\"],[0.4444444444444444,\"#bd3786\"],[0.5555555555555556,\"#d8576b\"],[0.6666666666666666,\"#ed7953\"],[0.7777777777777778,\"#fb9f3a\"],[0.8888888888888888,\"#fdca26\"],[1.0,\"#f0f921\"]],\"type\":\"contour\"}],\"heatmapgl\":[{\"colorbar\":{\"outlinewidth\":0,\"ticks\":\"\"},\"colorscale\":[[0.0,\"#0d0887\"],[0.1111111111111111,\"#46039f\"],[0.2222222222222222,\"#7201a8\"],[0.3333333333333333,\"#9c179e\"],[0.4444444444444444,\"#bd3786\"],[0.5555555555555556,\"#d8576b\"],[0.6666666666666666,\"#ed7953\"],[0.7777777777777778,\"#fb9f3a\"],[0.8888888888888888,\"#fdca26\"],[1.0,\"#f0f921\"]],\"type\":\"heatmapgl\"}],\"heatmap\":[{\"colorbar\":{\"outlinewidth\":0,\"ticks\":\"\"},\"colorscale\":[[0.0,\"#0d0887\"],[0.1111111111111111,\"#46039f\"],[0.2222222222222222,\"#7201a8\"],[0.3333333333333333,\"#9c179e\"],[0.4444444444444444,\"#bd3786\"],[0.5555555555555556,\"#d8576b\"],[0.6666666666666666,\"#ed7953\"],[0.7777777777777778,\"#fb9f3a\"],[0.8888888888888888,\"#fdca26\"],[1.0,\"#f0f921\"]],\"type\":\"heatmap\"}],\"histogram2dcontour\":[{\"colorbar\":{\"outlinewidth\":0,\"ticks\":\"\"},\"colorscale\":[[0.0,\"#0d0887\"],[0.1111111111111111,\"#46039f\"],[0.2222222222222222,\"#7201a8\"],[0.3333333333333333,\"#9c179e\"],[0.4444444444444444,\"#bd3786\"],[0.5555555555555556,\"#d8576b\"],[0.6666666666666666,\"#ed7953\"],[0.7777777777777778,\"#fb9f3a\"],[0.8888888888888888,\"#fdca26\"],[1.0,\"#f0f921\"]],\"type\":\"histogram2dcontour\"}],\"histogram2d\":[{\"colorbar\":{\"outlinewidth\":0,\"ticks\":\"\"},\"colorscale\":[[0.0,\"#0d0887\"],[0.1111111111111111,\"#46039f\"],[0.2222222222222222,\"#7201a8\"],[0.3333333333333333,\"#9c179e\"],[0.4444444444444444,\"#bd3786\"],[0.5555555555555556,\"#d8576b\"],[0.6666666666666666,\"#ed7953\"],[0.7777777777777778,\"#fb9f3a\"],[0.8888888888888888,\"#fdca26\"],[1.0,\"#f0f921\"]],\"type\":\"histogram2d\"}],\"histogram\":[{\"marker\":{\"pattern\":{\"fillmode\":\"overlay\",\"size\":10,\"solidity\":0.2}},\"type\":\"histogram\"}],\"mesh3d\":[{\"colorbar\":{\"outlinewidth\":0,\"ticks\":\"\"},\"type\":\"mesh3d\"}],\"parcoords\":[{\"line\":{\"colorbar\":{\"outlinewidth\":0,\"ticks\":\"\"}},\"type\":\"parcoords\"}],\"pie\":[{\"automargin\":true,\"type\":\"pie\"}],\"scatter3d\":[{\"line\":{\"colorbar\":{\"outlinewidth\":0,\"ticks\":\"\"}},\"marker\":{\"colorbar\":{\"outlinewidth\":0,\"ticks\":\"\"}},\"type\":\"scatter3d\"}],\"scattercarpet\":[{\"marker\":{\"colorbar\":{\"outlinewidth\":0,\"ticks\":\"\"}},\"type\":\"scattercarpet\"}],\"scattergeo\":[{\"marker\":{\"colorbar\":{\"outlinewidth\":0,\"ticks\":\"\"}},\"type\":\"scattergeo\"}],\"scattergl\":[{\"marker\":{\"colorbar\":{\"outlinewidth\":0,\"ticks\":\"\"}},\"type\":\"scattergl\"}],\"scattermapbox\":[{\"marker\":{\"colorbar\":{\"outlinewidth\":0,\"ticks\":\"\"}},\"type\":\"scattermapbox\"}],\"scatterpolargl\":[{\"marker\":{\"colorbar\":{\"outlinewidth\":0,\"ticks\":\"\"}},\"type\":\"scatterpolargl\"}],\"scatterpolar\":[{\"marker\":{\"colorbar\":{\"outlinewidth\":0,\"ticks\":\"\"}},\"type\":\"scatterpolar\"}],\"scatter\":[{\"fillpattern\":{\"fillmode\":\"overlay\",\"size\":10,\"solidity\":0.2},\"type\":\"scatter\"}],\"scatterternary\":[{\"marker\":{\"colorbar\":{\"outlinewidth\":0,\"ticks\":\"\"}},\"type\":\"scatterternary\"}],\"surface\":[{\"colorbar\":{\"outlinewidth\":0,\"ticks\":\"\"},\"colorscale\":[[0.0,\"#0d0887\"],[0.1111111111111111,\"#46039f\"],[0.2222222222222222,\"#7201a8\"],[0.3333333333333333,\"#9c179e\"],[0.4444444444444444,\"#bd3786\"],[0.5555555555555556,\"#d8576b\"],[0.6666666666666666,\"#ed7953\"],[0.7777777777777778,\"#fb9f3a\"],[0.8888888888888888,\"#fdca26\"],[1.0,\"#f0f921\"]],\"type\":\"surface\"}],\"table\":[{\"cells\":{\"fill\":{\"color\":\"#EBF0F8\"},\"line\":{\"color\":\"white\"}},\"header\":{\"fill\":{\"color\":\"#C8D4E3\"},\"line\":{\"color\":\"white\"}},\"type\":\"table\"}]},\"layout\":{\"annotationdefaults\":{\"arrowcolor\":\"#2a3f5f\",\"arrowhead\":0,\"arrowwidth\":1},\"autotypenumbers\":\"strict\",\"coloraxis\":{\"colorbar\":{\"outlinewidth\":0,\"ticks\":\"\"}},\"colorscale\":{\"diverging\":[[0,\"#8e0152\"],[0.1,\"#c51b7d\"],[0.2,\"#de77ae\"],[0.3,\"#f1b6da\"],[0.4,\"#fde0ef\"],[0.5,\"#f7f7f7\"],[0.6,\"#e6f5d0\"],[0.7,\"#b8e186\"],[0.8,\"#7fbc41\"],[0.9,\"#4d9221\"],[1,\"#276419\"]],\"sequential\":[[0.0,\"#0d0887\"],[0.1111111111111111,\"#46039f\"],[0.2222222222222222,\"#7201a8\"],[0.3333333333333333,\"#9c179e\"],[0.4444444444444444,\"#bd3786\"],[0.5555555555555556,\"#d8576b\"],[0.6666666666666666,\"#ed7953\"],[0.7777777777777778,\"#fb9f3a\"],[0.8888888888888888,\"#fdca26\"],[1.0,\"#f0f921\"]],\"sequentialminus\":[[0.0,\"#0d0887\"],[0.1111111111111111,\"#46039f\"],[0.2222222222222222,\"#7201a8\"],[0.3333333333333333,\"#9c179e\"],[0.4444444444444444,\"#bd3786\"],[0.5555555555555556,\"#d8576b\"],[0.6666666666666666,\"#ed7953\"],[0.7777777777777778,\"#fb9f3a\"],[0.8888888888888888,\"#fdca26\"],[1.0,\"#f0f921\"]]},\"colorway\":[\"#636efa\",\"#EF553B\",\"#00cc96\",\"#ab63fa\",\"#FFA15A\",\"#19d3f3\",\"#FF6692\",\"#B6E880\",\"#FF97FF\",\"#FECB52\"],\"font\":{\"color\":\"#2a3f5f\"},\"geo\":{\"bgcolor\":\"white\",\"lakecolor\":\"white\",\"landcolor\":\"#E5ECF6\",\"showlakes\":true,\"showland\":true,\"subunitcolor\":\"white\"},\"hoverlabel\":{\"align\":\"left\"},\"hovermode\":\"closest\",\"mapbox\":{\"style\":\"light\"},\"paper_bgcolor\":\"white\",\"plot_bgcolor\":\"#E5ECF6\",\"polar\":{\"angularaxis\":{\"gridcolor\":\"white\",\"linecolor\":\"white\",\"ticks\":\"\"},\"bgcolor\":\"#E5ECF6\",\"radialaxis\":{\"gridcolor\":\"white\",\"linecolor\":\"white\",\"ticks\":\"\"}},\"scene\":{\"xaxis\":{\"backgroundcolor\":\"#E5ECF6\",\"gridcolor\":\"white\",\"gridwidth\":2,\"linecolor\":\"white\",\"showbackground\":true,\"ticks\":\"\",\"zerolinecolor\":\"white\"},\"yaxis\":{\"backgroundcolor\":\"#E5ECF6\",\"gridcolor\":\"white\",\"gridwidth\":2,\"linecolor\":\"white\",\"showbackground\":true,\"ticks\":\"\",\"zerolinecolor\":\"white\"},\"zaxis\":{\"backgroundcolor\":\"#E5ECF6\",\"gridcolor\":\"white\",\"gridwidth\":2,\"linecolor\":\"white\",\"showbackground\":true,\"ticks\":\"\",\"zerolinecolor\":\"white\"}},\"shapedefaults\":{\"line\":{\"color\":\"#2a3f5f\"}},\"ternary\":{\"aaxis\":{\"gridcolor\":\"white\",\"linecolor\":\"white\",\"ticks\":\"\"},\"baxis\":{\"gridcolor\":\"white\",\"linecolor\":\"white\",\"ticks\":\"\"},\"bgcolor\":\"#E5ECF6\",\"caxis\":{\"gridcolor\":\"white\",\"linecolor\":\"white\",\"ticks\":\"\"}},\"title\":{\"x\":0.05},\"xaxis\":{\"automargin\":true,\"gridcolor\":\"white\",\"linecolor\":\"white\",\"ticks\":\"\",\"title\":{\"standoff\":15},\"zerolinecolor\":\"white\",\"zerolinewidth\":2},\"yaxis\":{\"automargin\":true,\"gridcolor\":\"white\",\"linecolor\":\"white\",\"ticks\":\"\",\"title\":{\"standoff\":15},\"zerolinecolor\":\"white\",\"zerolinewidth\":2}}},\"title\":{\"text\":\"Average House Price vs Vehicle Data per Dwelling\"},\"xaxis\":{\"tickformat\":\",\",\"title\":{\"text\":\"Average House Price ($)\"}},\"yaxis\":{\"tickformat\":\",\",\"title\":{\"text\":\"Vehicle Data per Dwelling\"}}},                        {\"responsive\": true}                    ).then(function(){\n",
       "                            \n",
       "var gd = document.getElementById('bdf6e694-7c6f-481c-9669-a894c041b1df');\n",
       "var x = new MutationObserver(function (mutations, observer) {{\n",
       "        var display = window.getComputedStyle(gd).display;\n",
       "        if (!display || display === 'none') {{\n",
       "            console.log([gd, 'removed!']);\n",
       "            Plotly.purge(gd);\n",
       "            observer.disconnect();\n",
       "        }}\n",
       "}});\n",
       "\n",
       "// Listen for the removal of the full notebook cells\n",
       "var notebookContainer = gd.closest('#notebook-container');\n",
       "if (notebookContainer) {{\n",
       "    x.observe(notebookContainer, {childList: true});\n",
       "}}\n",
       "\n",
       "// Listen for the clearing of the current output cell\n",
       "var outputEl = gd.closest('.output');\n",
       "if (outputEl) {{\n",
       "    x.observe(outputEl, {childList: true});\n",
       "}}\n",
       "\n",
       "                        })                };                });            </script>        </div>"
      ]
     },
     "metadata": {},
     "output_type": "display_data"
    }
   ],
   "source": [
    "import requests\n",
    "import pandas as pd\n",
    "import plotly.graph_objs as go\n",
    "from plotly.offline import iplot, init_notebook_mode\n",
    "\n",
    "# Initialize Plotly to work in offline mode in Jupyter\n",
    "init_notebook_mode(connected=True)\n",
    "\n",
    "# Fetch the data from the API for house prices and vehicle data\n",
    "url_houseprice_vehicle = 'http://127.0.0.1:9090/houseprice/vehicle'\n",
    "response_houseprice_vehicle = requests.get(url_houseprice_vehicle)\n",
    "data_houseprice_vehicle = response_houseprice_vehicle.json()\n",
    "\n",
    "# Convert JSON data to a DataFrame\n",
    "df_houseprice_vehicle = pd.json_normalize(data_houseprice_vehicle)\n",
    "\n",
    "# Sort the DataFrame by average house price\n",
    "df_houseprice_vehicle = df_houseprice_vehicle.sort_values(by='average_price')\n",
    "\n",
    "# Create a combined trend chart\n",
    "def create_combined_trend_chart(df):\n",
    "    # Create the figure\n",
    "    fig = go.Figure()\n",
    "    \n",
    "    # Average House Price vs None Vehicle per Dwelling\n",
    "    fig.add_trace(go.Scatter(\n",
    "        x=df['average_price'],\n",
    "        y=df['none_vehicle_per_dwelling'],\n",
    "        mode='lines+markers',\n",
    "        name='No Vehicle',\n",
    "        hovertext=[\n",
    "            f\"House Price: ${price:,}<br>No Vehicle per Dwelling: {value}\"\n",
    "            for price, value in zip(df['average_price'], df['none_vehicle_per_dwelling'])\n",
    "        ],\n",
    "        hoverinfo='text'\n",
    "    ))\n",
    "    \n",
    "    # Average House Price vs One Vehicle per Dwelling\n",
    "    fig.add_trace(go.Scatter(\n",
    "        x=df['average_price'],\n",
    "        y=df['one_vehicle_per_dwelling'],\n",
    "        mode='lines+markers',\n",
    "        name='One Vehicle',\n",
    "        hovertext=[\n",
    "            f\"House Price: ${price:,}<br>One Vehicle per Dwelling: {value}\"\n",
    "            for price, value in zip(df['average_price'], df['one_vehicle_per_dwelling'])\n",
    "        ],\n",
    "        hoverinfo='text'\n",
    "    ))\n",
    "    \n",
    "    # Average House Price vs Two Vehicles per Dwelling\n",
    "    fig.add_trace(go.Scatter(\n",
    "        x=df['average_price'],\n",
    "        y=df['two_vehicle_per_dwelling'],\n",
    "        mode='lines+markers',\n",
    "        name='Two Vehicles',\n",
    "        hovertext=[\n",
    "            f\"House Price: ${price:,}<br>Two Vehicles per Dwelling: {value}\"\n",
    "            for price, value in zip(df['average_price'], df['two_vehicle_per_dwelling'])\n",
    "        ],\n",
    "        hoverinfo='text'\n",
    "    ))\n",
    "    \n",
    "    # Average House Price vs Three Vehicles per Dwelling\n",
    "    fig.add_trace(go.Scatter(\n",
    "        x=df['average_price'],\n",
    "        y=df['three_vehicle_per_dwelling'],\n",
    "        mode='lines+markers',\n",
    "        name='Three Vehicles',\n",
    "        hovertext=[\n",
    "            f\"House Price: ${price:,}<br>Three Vehicles per Dwelling: {value}\"\n",
    "            for price, value in zip(df['average_price'], df['three_vehicle_per_dwelling'])\n",
    "        ],\n",
    "        hoverinfo='text'\n",
    "    ))\n",
    "    \n",
    "    # Average House Price vs More than Four Vehicles per Dwelling\n",
    "    fig.add_trace(go.Scatter(\n",
    "        x=df['average_price'],\n",
    "        y=df['more_than_four_vehicle_per_dwelling'],\n",
    "        mode='lines+markers',\n",
    "        name='More than Four Vehicles',\n",
    "        hovertext=[\n",
    "            f\"House Price: ${price:,}<br>More than Four Vehicles per Dwelling: {value}\"\n",
    "            for price, value in zip(df['average_price'], df['more_than_four_vehicle_per_dwelling'])\n",
    "        ],\n",
    "        hoverinfo='text'\n",
    "    ))\n",
    "    \n",
    "    # Update layout\n",
    "    fig.update_layout(\n",
    "        title='Average House Price vs Vehicle Data per Dwelling',\n",
    "        xaxis_title='Average House Price ($)',\n",
    "        yaxis_title='Vehicle per Dwelling',\n",
    "        hovermode='closest'\n",
    "    )\n",
    "    \n",
    "    fig.update_xaxes(tickformat=',')\n",
    "    fig.update_yaxes(tickformat=',')\n",
    "    \n",
    "    # Display the chart\n",
    "    iplot(fig)\n",
    "\n",
    "# Generate the combined trend chart for the DataFrame\n",
    "if not df_houseprice_vehicle.empty:\n",
    "    create_combined_trend_chart(df_houseprice_vehicle)\n"
   ]
  },
  {
   "cell_type": "code",
   "execution_count": null,
   "metadata": {},
   "outputs": [],
   "source": []
  }
 ],
 "metadata": {
  "kernelspec": {
   "display_name": "Python 3 (ipykernel)",
   "language": "python",
   "name": "python3"
  },
  "language_info": {
   "codemirror_mode": {
    "name": "ipython",
    "version": 3
   },
   "file_extension": ".py",
   "mimetype": "text/x-python",
   "name": "python",
   "nbconvert_exporter": "python",
   "pygments_lexer": "ipython3",
   "version": "3.12.3"
  }
 },
 "nbformat": 4,
 "nbformat_minor": 4
}
